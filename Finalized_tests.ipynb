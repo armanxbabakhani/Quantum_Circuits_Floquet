{
 "cells": [
  {
   "cell_type": "code",
   "execution_count": 60,
   "metadata": {},
   "outputs": [
    {
     "name": "stderr",
     "output_type": "stream",
     "text": [
      "/Users/armanbabakhani/Dropbox/Research/Itay/QuantumCircuits/Qiskit/Quantum_Circuit_Github/Quantum_Circuits_Floquet/PMR_LCU.py:94: SyntaxWarning: invalid escape sequence '\\o'\n",
      "  \"\"\"\n",
      "/Users/armanbabakhani/Dropbox/Research/Itay/QuantumCircuits/Qiskit/Quantum_Circuit_Github/Quantum_Circuits_Floquet/PMR_LCU.py:261: SyntaxWarning: invalid escape sequence '\\o'\n",
      "  Input (int) #2 (q_qbits): The quantum register (not the index) of the q qubits\n",
      "/Users/armanbabakhani/Dropbox/Research/Itay/QuantumCircuits/Qiskit/Quantum_Circuit_Github/Quantum_Circuits_Floquet/PMR_LCU.py:290: SyntaxWarning: invalid escape sequence '\\o'\n",
      "  Input (int) #2 (z_qbits_idx): The index of the register of the |z> qubits\n"
     ]
    }
   ],
   "source": [
    "import qiskit as qk\n",
    "import numpy as np\n",
    "import scipy.linalg as lin\n",
    "import math\n",
    "from qiskit.quantum_info import Statevector , Operator , partial_trace , DensityMatrix\n",
    "from qiskit.circuit.library.standard_gates import HGate , XGate\n",
    "from qiskit.circuit.library import GlobalPhaseGate\n",
    "from qiskit.extensions import Initialize , UnitaryGate\n",
    "from qiskit.providers.aer import AerSimulator\n",
    "import sys\n",
    "import matplotlib.pyplot as plt\n",
    "from qiskit_ibm_provider import IBMProvider\n",
    "from qiskit.quantum_info import SparsePauliOp\n",
    "from qiskit.primitives import BackendEstimator\n",
    "from qiskit import QuantumCircuit, Aer, transpile\n",
    "import importlib\n",
    "import PMR_LCU\n",
    "importlib.reload(PMR_LCU)  # Reload to reflect updates\n",
    "from PMR_LCU import *"
   ]
  },
  {
   "cell_type": "markdown",
   "metadata": {},
   "source": [
    "### Testing the permutation operators $U_{cP}$"
   ]
  },
  {
   "cell_type": "code",
   "execution_count": 54,
   "metadata": {},
   "outputs": [],
   "source": [
    "def Uc_P( Circuit , NumOfPermutations , CtrQbitsIndex , TargQbitsIndex , SubIndex , dagger):\n",
    "    \"\"\"\"\n",
    "    This is a void function creating a controlled permutation on the circuit\n",
    "\n",
    "    Input (int) #1 (NumOfPermutations): The number of spins for the system\n",
    "    Input (int) #2 (CtrQbitsIndex): The index of the register for the controlled qubits\n",
    "    Input (int) #3 (TargQbitsIndex): The index of the register for the target qubits\n",
    "    Input (int) #4 (SubIndex): The sub-index (q) for the i_q register to generate the controlled qubit\n",
    "    Input (bool) #5 (dagger): Speficies whether the gate is hermitian conjugate of U_p or not\n",
    "\n",
    "    \"\"\"\n",
    "    # Assuming SubIndex refers to a specific block of register of size log2(n) qubits\n",
    "    if SubIndex > 0:\n",
    "        CtrQbits = Circuit.qregs[CtrQbitsIndex]\n",
    "        TargQbits = Circuit.qregs[TargQbitsIndex]\n",
    "        L = int( np.ceil(np.log2(NumOfPermutations)) )\n",
    "        NQbits = Circuit.num_qubits # Total qubits for the circuit\n",
    "        \n",
    "        CtrQbitsSubset = CtrQbits[(SubIndex-1)*L:SubIndex*L]\n",
    "        # Making the controlled XX gate for the specific number of controlled qubits\n",
    "        cxxcirc = qk.QuantumCircuit(2 , name='cXX')\n",
    "        cxxcirc.x( range(2) )\n",
    "        cxxGate = cxxcirc.to_gate()\n",
    "        cxxGate = cxxGate.control(L)\n",
    "        \n",
    "        if dagger:\n",
    "            for i in np.arange(NumOfPermutations-1 , 0 , -1):\n",
    "                ibin = bin(i)[2:]\n",
    "                ibin = (L-len(ibin))*'0' +ibin \n",
    "                ibin = ibin[::-1]\n",
    "                \n",
    "                ZeroCtrls = [x for x in range(L) if(int(ibin[x]) == 0)]\n",
    "                for j in range(len(ZeroCtrls)):\n",
    "                    Circuit.x( CtrQbitsSubset[ZeroCtrls[j]] )\n",
    "                Circuit.append( cxxGate , CtrQbitsSubset[:] + TargQbits[i-1:i+1] )\n",
    "                for j in np.arange(len(ZeroCtrls)-1 , -1 , -1):\n",
    "                    Circuit.x( CtrQbitsSubset[ZeroCtrls[j]] )\n",
    "        else:\n",
    "            for i in np.arange(1, NumOfPermutations+1):\n",
    "                ibin = bin(i)[2:]\n",
    "                ibin = (L-len(ibin))*'0' +ibin \n",
    "                ibin = ibin[::-1]\n",
    "\n",
    "                ZeroCtrls = [x for x in range(L) if(int(ibin[x]) == 0)]\n",
    "                for j in range(len(ZeroCtrls)):\n",
    "                    Circuit.x( CtrQbitsSubset[ZeroCtrls[j]] )\n",
    "                # This part needs to be fixed.. We need to \n",
    "                Circuit.append( cxxGate , CtrQbitsSubset[:] + TargQbits[i-1:i+1] )\n",
    "                for j in range(len(ZeroCtrls)):\n",
    "                    Circuit.x( CtrQbitsSubset[ZeroCtrls[j]] )"
   ]
  },
  {
   "cell_type": "code",
   "execution_count": 61,
   "metadata": {},
   "outputs": [
    {
     "name": "stdout",
     "output_type": "stream",
     "text": [
      "                     ┌───┐         ┌───┐                                    \n",
      "|iq>_0: ────────■────┤ X ├───■─────┤ X ├─────■──────────────────────────────\n",
      "        ┌───┐   │    ├───┤   │     └───┘     │                              \n",
      "|iq>_1: ┤ X ├───■────┤ X ├───■───────────────■──────────────────────────────\n",
      "        └───┘   │    └───┘   │               │    ┌───┐        ┌───┐        \n",
      "|iq>_2: ────────┼────────────┼───────■───────┼────┤ X ├───■────┤ X ├───■────\n",
      "        ┌───┐   │            │       │       │    ├───┤   │    └───┘   │    \n",
      "|iq>_3: ┤ X ├───┼────────────┼───────■───────┼────┤ X ├───■────────────■────\n",
      "        └───┘┌──┴───┐        │    ┌──┴───┐   │    └───┘   │            │    \n",
      " |z>_0: ─────┤0     ├────────┼────┤0     ├───┼────────────┼────────────┼────\n",
      "             │  cXX │     ┌──┴───┐│  cXX │   │         ┌──┴───┐        │    \n",
      " |z>_1: ─────┤1     ├─────┤0     ├┤1     ├───┼─────────┤0     ├────────┼────\n",
      "             └──────┘     │  cXX │└──────┘┌──┴───┐     │  cXX │     ┌──┴───┐\n",
      " |z>_2: ──────────────────┤1     ├────────┤0     ├─────┤1     ├─────┤0     ├\n",
      "                          └──────┘        │  cXX │     └──────┘     │  cXX │\n",
      " |z>_3: ──────────────────────────────────┤1     ├──────────────────┤1     ├\n",
      "                                          └──────┘                  └──────┘\n"
     ]
    }
   ],
   "source": [
    "K = 2     # only two modes -w and w\n",
    "number_of_spins = 4\n",
    "Qmax = 2\n",
    "M = number_of_spins-1  # number of permutation operators\n",
    "Nkq = int(np.log2(K))*Qmax\n",
    "Niq = int(np.log2(number_of_spins))*Qmax\n",
    "Ntotal = Nkq + Niq + number_of_spins + 2 + Qmax\n",
    "\n",
    "kqQubits = qk.QuantumRegister(Nkq , '|kq>')\n",
    "iqQubits = qk.QuantumRegister(Niq , '|iq>')\n",
    "zQubits = qk.QuantumRegister(number_of_spins , '|z>') # n+1 st is an ancilla for diagonal rotations!\n",
    "#ancQubit = qk.QuantumRegister(1 , '|anc>')\n",
    "qQubits = qk.QuantumRegister(Qmax , '|q>')\n",
    "\n",
    "kq_qbits_index = 0\n",
    "iq_qbits_index = 1\n",
    "z_qbits_index = 2 \n",
    "anc_qbits_index = 3\n",
    "q_qbits_index = 4\n",
    "\n",
    "# =========================== Building the circuits  U_0(dt) U_od(dt) ... U_0(dt) U_od(dt) =================================== #\n",
    "\n",
    "#FullCirc = qk.QuantumCircuit( kqQubits , iqQubits , zQubits , ancQubit , qQubits )\n",
    "#FullCirc = qk.QuantumCircuit( kqQubits , iqQubits , zQubits , qQubits )\n",
    "\n",
    "FullCirc = qk.QuantumCircuit( iqQubits , zQubits)\n",
    "\n",
    "\n",
    "Uc_P( FullCirc , M , 0 , 1 , 1 , False )\n",
    "Uc_P( FullCirc , M , 0 , 1 , 2 , False )\n",
    "\n",
    "print( FullCirc.draw() )\n"
   ]
  },
  {
   "cell_type": "code",
   "execution_count": 62,
   "metadata": {},
   "outputs": [],
   "source": [
    "IqState1 = Statevector.from_label('0001')\n",
    "IqState2 = Statevector.from_label('1110')\n",
    "TotalIqState = IqState1 + IqState2\n",
    "Zstate = Statevector.from_label('0'*number_of_spins)\n",
    "TotalState = Zstate.tensor(TotalIqState)\n",
    "FinalState = TotalState.evolve(FullCirc)\n",
    "FinalStateIndices = [i for i in range(len(FinalState)) if abs(FinalState[i])>1E-6]\n",
    "#print(f'The total initial state is {TotalState} and the total final state is {FinalStateIndices}')"
   ]
  },
  {
   "cell_type": "code",
   "execution_count": 63,
   "metadata": {},
   "outputs": [
    {
     "name": "stdout",
     "output_type": "stream",
     "text": [
      "a is 1, b is 2, and d is 5\n"
     ]
    }
   ],
   "source": [
    "Params = [1,2,4,5]\n",
    "\n",
    "[a , b , c, d] = Params\n",
    "\n",
    "print(f'a is {a}, b is {b}, and d is {d}')"
   ]
  },
  {
   "cell_type": "code",
   "execution_count": null,
   "metadata": {},
   "outputs": [],
   "source": []
  },
  {
   "cell_type": "markdown",
   "metadata": {},
   "source": [
    "### Testing the simulations"
   ]
  },
  {
   "cell_type": "markdown",
   "metadata": {},
   "source": []
  }
 ],
 "metadata": {
  "kernelspec": {
   "display_name": "qiskit0.42",
   "language": "python",
   "name": "qiskit_0.42"
  },
  "language_info": {
   "codemirror_mode": {
    "name": "ipython",
    "version": 3
   },
   "file_extension": ".py",
   "mimetype": "text/x-python",
   "name": "python",
   "nbconvert_exporter": "python",
   "pygments_lexer": "ipython3",
   "version": "3.12.4"
  }
 },
 "nbformat": 4,
 "nbformat_minor": 2
}
