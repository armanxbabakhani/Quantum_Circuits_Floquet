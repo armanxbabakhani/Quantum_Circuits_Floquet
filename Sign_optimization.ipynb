{
 "cells": [
  {
   "cell_type": "code",
   "execution_count": 55,
   "metadata": {},
   "outputs": [],
   "source": [
    "import importlib\n",
    "import sign_tools\n",
    "import numpy as np\n",
    "\n",
    "importlib.reload(sign_tools)\n",
    "\n",
    "from sign_tools import *\n",
    "\n"
   ]
  },
  {
   "cell_type": "markdown",
   "metadata": {},
   "source": [
    "### Reading PMR data from input file\n",
    "\n",
    "Reading the original unrotated file..."
   ]
  },
  {
   "cell_type": "code",
   "execution_count": 58,
   "metadata": {},
   "outputs": [
    {
     "name": "stdout",
     "output_type": "stream",
     "text": [
      "The total number of particles are: 4\n",
      "The permutations are [[1, 1, 0, 0], [1, 0, 1, 0], [0, 1, 1, 0], [0, 1, 0, 1], [0, 0, 1, 1], [0, 0, 0, 0]]\n",
      "The diagonals are [([(1+0j), (-1+0j)], [[0, 0, 0, 0], [1, 1, 0, 0]]), ([(1+0j), (-1+0j)], [[0, 0, 0, 0], [1, 0, 1, 0]]), ([(1+0j), (-1+0j)], [[0, 0, 0, 0], [0, 1, 1, 0]]), ([(1+0j), (-1+0j)], [[0, 0, 0, 0], [0, 1, 0, 1]]), ([(1+0j), (-1+0j)], [[0, 0, 0, 0], [0, 0, 1, 1]]), ([(1+0j), (1+0j), (1+0j), (1+0j), (1+0j)], [[1, 1, 0, 0], [1, 0, 1, 0], [0, 1, 1, 0], [0, 1, 0, 1], [0, 0, 1, 1]])]\n",
      "The initial cost is 1536.0\n"
     ]
    }
   ],
   "source": [
    "N = 4\n",
    "filename = './Inputs/Triangular_Ladder_Heisenberg/Triangular_Heis_n='+str(N)+'.txt'\n",
    "Coefficients, BinaryVectors , NumOfParticles = parse_pauli_file(filename)\n",
    "AllPermsBinary , AllDiagsBinary , PureDiagonals = process_pauli_terms(Coefficients , BinaryVectors , NumOfParticles)\n",
    "if len(PureDiagonals) > 0:\n",
    "    AllPermsBinary.append([0]*NumOfParticles)\n",
    "    AllDiagsBinary.append(PureDiagonals[0])\n",
    "\n",
    "print(f'The permutations are {AllPermsBinary}')\n",
    "print(f'The diagonals are {AllDiagsBinary}')\n",
    "\n",
    "InitialTotalCost , CostsQ , CyclesQ = total_cost_from_binary_operators(AllPermsBinary , AllDiagsBinary)\n",
    "print(f'The initial cost is {InitialTotalCost}')\n",
    "# CyclesOriginal , N = get_all_cycles_from_file(filename)"
   ]
  },
  {
   "cell_type": "markdown",
   "metadata": {},
   "source": [
    "### Make initial rotations\n",
    "\n",
    "Before full optimization, we start from an enhanced rotations using our two-body unitary $U_2$ with the following structure:\n",
    "\n",
    "$U_{\\text{odd.}} = 1\\otimes U_2 \\otimes U_2 \\otimes \\cdots \\otimes U_2$\n",
    "\n",
    "$U_{\\text{even.}} = 1\\otimes U_2 \\otimes U_2 \\otimes \\cdots \\otimes U_2 \\otimes 1$\n",
    "\n",
    "For even or odd number of spins.\n",
    "\n",
    "\n"
   ]
  },
  {
   "cell_type": "code",
   "execution_count": 60,
   "metadata": {},
   "outputs": [
    {
     "name": "stdout",
     "output_type": "stream",
     "text": [
      "The spins are [1, 2]\n",
      "The permutations are [[1, 1, 0, 0], [1, 0, 1, 0], [0, 0, 0, 0], [0, 1, 1, 0], [0, 1, 0, 1], [0, 0, 1, 1]]\n",
      "The diagonals are [[[(0.7071067811865476+0j), (-0.7071067811865476+0j), (0.7071067811865476+0j), (-0.7071067811865476+0j)], [[0, 0, 0, 0], [1, 1, 0, 0], [0, 0, 1, 0], [1, 1, 1, 0]]], [[(-0.7071067811865476+0j), (0.7071067811865476-0j), (0.7071067811865476+0j), (-0.7071067811865476+0j)], [[0, 1, 0, 0], [1, 1, 1, 0], [0, 0, 0, 0], [1, 0, 1, 0]]], [[(1+0j), (-1+0j), (1+0j), (1+0j), (1+0j), (1+0j), (1+0j)], [[0, 0, 1, 0], [0, 1, 0, 0], [1, 0, 1, 0], [1, 1, 0, 0], [0, 1, 1, 0], [0, 0, 1, 1], [0, 1, 0, 1]]], [[], []], [[(0.7071067811865476+0j), (-0.7071067811865476+0j), (0.7071067811865476+0j), (-0.7071067811865476+0j)], [[0, 0, 0, 0], [0, 1, 0, 1], [0, 0, 1, 0], [0, 1, 1, 1]]], [[(-0.7071067811865476+0j), (0.7071067811865476-0j), (0.7071067811865476+0j), (-0.7071067811865476+0j)], [[0, 1, 0, 0], [0, 1, 1, 1], [0, 0, 0, 0], [0, 0, 1, 1]]]]\n",
      "The cost after rotation is 576.0000000000001\n",
      "The cost after rotation is {3: 0.0, 4: 576.0000000000001, 5: 0.0}\n"
     ]
    }
   ],
   "source": [
    "for i in range(int((N-1)/2)):\n",
    "    U2spins = [2*i+1 , 2*i+2]\n",
    "    print(f'The spins are {U2spins}')\n",
    "    AllPermsBinaryT , AllDiagsBinaryT = apply_U2_rotation(AllPermsBinary , AllDiagsBinary , U2spins)\n",
    "\n",
    "# The new cost after rotation:\n",
    "RotatedTotalCost , RotatedCostsQ , RotatedCyclesQ = total_cost_from_binary_operators(AllPermsBinaryT , AllDiagsBinaryT)\n",
    "\n",
    "print(f'The permutations are {AllPermsBinaryT}')\n",
    "print(f'The diagonals are {AllDiagsBinaryT}')\n",
    "\n",
    "print(f'The cost after rotation is {RotatedTotalCost}')\n",
    "print(f'The cost after rotation is {RotatedCostsQ}')"
   ]
  },
  {
   "cell_type": "markdown",
   "metadata": {},
   "source": []
  }
 ],
 "metadata": {
  "kernelspec": {
   "display_name": "Python 3",
   "language": "python",
   "name": "python3"
  },
  "language_info": {
   "codemirror_mode": {
    "name": "ipython",
    "version": 3
   },
   "file_extension": ".py",
   "mimetype": "text/x-python",
   "name": "python",
   "nbconvert_exporter": "python",
   "pygments_lexer": "ipython3",
   "version": "3.9.6"
  }
 },
 "nbformat": 4,
 "nbformat_minor": 2
}
