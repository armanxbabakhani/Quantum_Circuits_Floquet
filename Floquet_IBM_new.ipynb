{
 "cells": [
  {
   "cell_type": "code",
   "execution_count": 41,
   "metadata": {},
   "outputs": [
    {
     "name": "stderr",
     "output_type": "stream",
     "text": [
      "/Users/armanbabakhani/Dropbox/Research/Itay/QuantumCircuits/Qiskit/Quantum_Circuit_Github/Quantum_Circuits_Floquet/PMR_LCU.py:97: SyntaxWarning: invalid escape sequence '\\o'\n",
      "  \"\"\"\n",
      "/Users/armanbabakhani/Dropbox/Research/Itay/QuantumCircuits/Qiskit/Quantum_Circuit_Github/Quantum_Circuits_Floquet/PMR_LCU.py:263: SyntaxWarning: invalid escape sequence '\\o'\n",
      "  \"\"\"\"\n",
      "/Users/armanbabakhani/Dropbox/Research/Itay/QuantumCircuits/Qiskit/Quantum_Circuit_Github/Quantum_Circuits_Floquet/PMR_LCU.py:298: SyntaxWarning: invalid escape sequence '\\o'\n",
      "  \"\"\"\"\n",
      "/Users/armanbabakhani/Dropbox/Research/Itay/QuantumCircuits/Qiskit/Quantum_Circuit_Github/Quantum_Circuits_Floquet/PMR_LCU.py:337: SyntaxWarning: invalid escape sequence '\\o'\n",
      "  \"\"\"\n"
     ]
    }
   ],
   "source": [
    "import qiskit as qk\n",
    "import numpy as np\n",
    "import scipy.linalg as lin\n",
    "import math\n",
    "from qiskit.quantum_info import Statevector , Operator , partial_trace , DensityMatrix\n",
    "from qiskit.circuit.library.standard_gates import HGate , XGate\n",
    "from qiskit.circuit.library import GlobalPhaseGate\n",
    "from qiskit.extensions import Initialize , UnitaryGate\n",
    "from qiskit.providers.aer import AerSimulator\n",
    "import sys\n",
    "import matplotlib.pyplot as plt\n",
    "from qiskit_ibm_provider import IBMProvider\n",
    "from qiskit.quantum_info import SparsePauliOp\n",
    "from qiskit.primitives import BackendEstimator\n",
    "from qiskit import QuantumCircuit, Aer, transpile\n",
    "import importlib\n",
    "import PMR_LCU\n",
    "importlib.reload(PMR_LCU)  # Reload to reflect updates\n",
    "from PMR_LCU import *"
   ]
  },
  {
   "cell_type": "markdown",
   "metadata": {},
   "source": [
    "## Parameters of the system\n",
    "\n",
    "Here, we define the parameters for the simulation of the Hamiltonian $H(t) = \\sum_{i=1}^n h_i Z_i + V_x \\sum_{i=1}^{n-1} Z_i Z_{i+1} + cos(\\omega t) \\sum_{i=1}^{n-1} c_i X_i X_{i+1}$.  "
   ]
  },
  {
   "cell_type": "code",
   "execution_count": 42,
   "metadata": {},
   "outputs": [
    {
     "name": "stdout",
     "output_type": "stream",
     "text": [
      "The simulation parameters are ... \n",
      "V=[1.0, 1.0, 1.0] hs = [2. 1. 2. 1.] Gamma_list = [array([1., 3., 1.]), [0.5, 0.5]] time = 0.2772588722239781 Omega = 1.0 Number of time steps = 2\n"
     ]
    }
   ],
   "source": [
    "#====================== Circuit Paramters ================\n",
    "number_of_spins = 4 # number of particles (qubits)\n",
    "K = 2     # only two modes -w and w\n",
    "M = number_of_spins-1  # number of permutation operators\n",
    "\n",
    "C0 = 1.0 # Parameter for the floquet interaction strength\n",
    "Coeffs = C0*np.array([2+(-1)**x for x in np.arange(1,number_of_spins)]) # there are n elements in this array\n",
    "Omega = 1.0\n",
    "h0 = 1.0\n",
    "Longit_h = h0*np.array([1.5 + 0.5*(-1)**x for x in range(number_of_spins)])\n",
    "Vx = [1.0]*M\n",
    "C = np.max(Coeffs)\n",
    "\n",
    "Gammas_i = Coeffs\n",
    "Gammas_k = [0.5]*K\n",
    "Qmax = 2\n",
    "\n",
    "Gamma_1 = np.sum(Gammas_i)\n",
    "Gamma_2 = np.sum(Gammas_k)\n",
    "Gamma = Gamma_2 * Gamma_1\n",
    "Gamma_list = [Gammas_i , Gammas_k]\n",
    "Delta_t = np.log(2)/Gamma\n",
    "GDt = Gamma*Delta_t\n",
    "\n",
    "NumberOfTimeSteps = 2\n",
    "FinalTime = NumberOfTimeSteps*Delta_t\n",
    "\n",
    "print(f'The simulation parameters are ... ')\n",
    "print(f'V={Vx} hs = {Longit_h} Gamma_list = {Gamma_list} time = {FinalTime} Omega = {Omega} Number of time steps = {NumberOfTimeSteps}')"
   ]
  },
  {
   "cell_type": "markdown",
   "metadata": {},
   "source": [
    "### Reading in exact numerical results"
   ]
  },
  {
   "cell_type": "code",
   "execution_count": 15,
   "metadata": {},
   "outputs": [
    {
     "name": "stdout",
     "output_type": "stream",
     "text": [
      "The exact vector is [-0.359907-0.27317j    0.      +0.j         0.      +0.j\n",
      " -0.240997-0.0828557j  0.      +0.j         0.235109-0.260398j\n",
      "  0.565744-0.0728501j  0.      +0.j         0.      +0.j\n",
      " -0.207041+0.0646636j -0.223505-0.364826j   0.      +0.j\n",
      " -0.121577+0.158671j   0.      +0.j         0.      +0.j\n",
      "  0.109746-0.0185018j]\n"
     ]
    }
   ],
   "source": [
    "InitialStateString = '0'*number_of_spins\n",
    "# Read in the theoretical (exact numerical) values of the final state, given the initial state!\n",
    "import json \n",
    "\n",
    "with open(\"./Exact_Results/FinalState_params1_numoftimestep_\"+str(NumberOfTimeSteps)\"_init_\"+InitialStateString+\".json\", \"r\") as f:\n",
    "    data = json.load(f)\n",
    "\n",
    "# Extract the first term (complex number) from each entry\n",
    "complex_numbers = []\n",
    "for entry in data:\n",
    "    # Extract everything before the first comma (first term)\n",
    "    first_term = entry.split(\",\")[0].strip(\" {}\")  # Remove spaces and braces\n",
    "    # Replace \" I\" with \"j\" (Python complex notation)\n",
    "    first_term = first_term.replace(\" \", \"\").replace(\"I\", \"j\")\n",
    "    # Append to list\n",
    "    complex_numbers.append(first_term)\n",
    "\n",
    "# Convert strings to complex numbers\n",
    "FinalStateExact = np.array([complex(num) for num in complex_numbers], dtype=np.complex128)\n",
    "\n",
    "print(f'The exact vector is {FinalStateExact}')"
   ]
  },
  {
   "cell_type": "markdown",
   "metadata": {},
   "source": [
    "### Initializing the Quantum circuit"
   ]
  },
  {
   "cell_type": "code",
   "execution_count": 43,
   "metadata": {},
   "outputs": [],
   "source": [
    "Nkq = int(np.log2(K))*Qmax\n",
    "Niq = int(np.log2(number_of_spins))*Qmax\n",
    "Ntotal = Nkq + Niq + number_of_spins + Qmax + 1\n",
    "\n",
    "kqQubits = qk.QuantumRegister(Nkq , '|kq>')\n",
    "iqQubits = qk.QuantumRegister(Niq , '|iq>')\n",
    "zQubits = qk.QuantumRegister(number_of_spins , '|z>')\n",
    "qQubits = qk.QuantumRegister(Qmax , '|q>')\n",
    "ancQubit = qk.QuantumRegister(1 , '|anc>')\n",
    "\n",
    "kq_qbits_index = 0\n",
    "iq_qbits_index = 1\n",
    "z_qbits_index = 2\n",
    "q_qbits_index = 3\n",
    "anc_qbits_index = 4\n",
    "\n",
    "# =========================== Building the circuits  U_0(dt) U_od(dt) ... U_0(dt) U_od(dt) =================================== #\n",
    "\n",
    "FullCirc = qk.QuantumCircuit( kqQubits , iqQubits , zQubits , qQubits , ancQubit )\n",
    "FullCircwithPS = qk.QuantumCircuit( kqQubits , iqQubits , zQubits , qQubits , ancQubit )\n",
    "\n",
    "\n",
    "numberofsteps = FinalTime\n",
    "Prepare_full_unitary( FullCirc , [Longit_h , Vx] , Omega , Delta_t , Gamma_list , [kq_qbits_index , iq_qbits_index , z_qbits_index , q_qbits_index , anc_qbits_index] , NumberOfTimeSteps )\n",
    "Prepare_full_unitary_wo_Rgate( FullCircwithPS , [Longit_h , Vx] , Omega , Delta_t , Gamma_list , [kq_qbits_index , iq_qbits_index , z_qbits_index , q_qbits_index , anc_qbits_index] , NumberOfTimeSteps )\n",
    "\n",
    "#print(FullCirc.draw())\n",
    "#Ops = SparsePauliOp.from_list([('I'*(Nkq + Niq)+'XIII'+'I'*Q , 1) , ('I'*(Nkq + Niq)+'IXII'+'I'*Q , 1) , ('I'*(Nkq + Niq)+'ZIII'+'I'*Q , 1) , ('I'*(Nkq + Niq)+'IZII'+'I'*Q , 1)])\n",
    "#print(f'Circuit Prepared! The parameters are:  Vx = {Vx} , hs = {Longit_h} , Omega = {Omega} , C0 = {C0} , Q = {Q} , Gamma = {Gam} , Delta_t = {Delta_t} , GDt = {Gam*Delta_t}') "
   ]
  },
  {
   "cell_type": "markdown",
   "metadata": {},
   "source": [
    "### State initialization and simulation"
   ]
  },
  {
   "cell_type": "code",
   "execution_count": 50,
   "metadata": {},
   "outputs": [
    {
     "name": "stdout",
     "output_type": "stream",
     "text": [
      "The highest multiple is 128\n",
      "l1 is 8192 and l2 is 128\n",
      "The overlap of the Post selected with the Rgate final state is None\n"
     ]
    }
   ],
   "source": [
    "# Initializing the state:\n",
    "InitStateZ = Statevector.from_label('0'*number_of_spins)\n",
    "\n",
    "InitState = Statevector.from_label('0'*Nkq)\n",
    "InitState = Statevector.from_label('0'*Niq).tensor(InitState)\n",
    "InitState = InitStateZ.tensor(InitState)\n",
    "InitState = Statevector.from_label('0'*Qmax).tensor(InitState)\n",
    "InitState = Statevector.from_label('0').tensor(InitState)\n",
    "\n",
    "\n",
    "FinalStateFull = InitState.evolve(FullCirc)\n",
    "FinalStatewoRgate = InitState.evolve(FullCircwithPS)\n",
    "\n",
    "# Post-selection on the FinalStatewoRgate:\n",
    "increment = 2**( (Niq + Nkq) )\n",
    "HighestMultiple = int( 2**( number_of_spins ) )\n",
    "print(f'The highest multiple is {HighestMultiple}')\n",
    "FinalStatePS = np.array( [FinalStatewoRgate[i*increment] for i in range(HighestMultiple)] )\n",
    "FinalStatePS = FinalStatePS/np.linalg.norm( FinalStatePS )\n",
    "\n",
    "FinalStatewithR = np.array( [FinalStateFull[i*increment] for i in range(HighestMultiple)] )\n",
    "FinalStatewithR = FinalStatewithR/np.linalg.norm( FinalStatewithR )\n",
    "\n",
    "\n",
    "def state_overlap( state1 , state2):\n",
    "    l1 = len(state1)\n",
    "    l2 = len(state2)\n",
    "    print(f'l1 is {l1} and l2 is {l2}')\n",
    "    if l1 != l2:\n",
    "        ValueError(\"The dimensions of the states don't match!\")\n",
    "    else:\n",
    "        return np.dot(np.conjugate(state1) , state2)\n",
    "\n",
    "print(f'The overlap of the Post selected with the Rgate final state is {state_overlap(FinalStateFull , FinalStatePS)}')"
   ]
  },
  {
   "cell_type": "code",
   "execution_count": 36,
   "metadata": {},
   "outputs": [
    {
     "name": "stdout",
     "output_type": "stream",
     "text": [
      "     ┌───┐\n",
      "q_0: ┤ X ├\n",
      "     └───┘\n",
      "q_1: ─────\n",
      "          \n",
      "q_2: ─────\n",
      "          \n",
      "Statevector([0.+0.j, 0.+0.j, 0.+0.j, 1.+0.j, 0.+0.j, 0.+0.j, 0.+0.j,\n",
      "             0.+0.j],\n",
      "            dims=(2, 2, 2))\n",
      "Statevector([0.+0.j, 0.+0.j, 1.+0.j, 0.+0.j, 0.+0.j, 0.+0.j, 0.+0.j,\n",
      "             0.+0.j],\n",
      "            dims=(2, 2, 2))\n"
     ]
    }
   ],
   "source": [
    "a = Statevector.from_label('01')\n",
    "b = a.tensor(Statevector.from_label('1'))\n",
    "testC = QuantumCircuit(3)\n",
    "testC.x(0)\n",
    "print(testC.draw())\n",
    "print(b)\n",
    "print(b.evolve(testC))"
   ]
  },
  {
   "cell_type": "code",
   "execution_count": 162,
   "metadata": {},
   "outputs": [
    {
     "name": "stdout",
     "output_type": "stream",
     "text": [
      "The gate depth is 308 , total number of qubits required is 10, the number of Toffoli gates is 36, and number of CNOTs is 158\n"
     ]
    }
   ],
   "source": [
    "# Transpiling the circuit and getting a gate count:\n",
    "backend_sim = Aer.get_backend('qasm_simulator')\n",
    "transpiled_circuit = transpile(FullCirc, backend_sim)\n",
    "\n",
    "gate_count = transpiled_circuit.count_ops()\n",
    "gate_depth = transpiled_circuit.depth()\n",
    "Toffoli_count = gate_count.get('ccx' , 0)\n",
    "CNOT_count = gate_count.get('cx' , 0)\n",
    "#print(\"\\nGate Count:\", gate_count)\n",
    "print(f'The gate depth is {gate_depth} , total number of qubits required is {Ntotal}, the number of Toffoli gates is {Toffoli_count}, and number of CNOTs is {CNOT_count}')\n",
    "\n",
    "#print(FullCirc.draw())"
   ]
  },
  {
   "cell_type": "code",
   "execution_count": 163,
   "metadata": {},
   "outputs": [
    {
     "name": "stdout",
     "output_type": "stream",
     "text": [
      "The job id is 3978659f-249a-4f61-bd27-78e21a3ca017\n"
     ]
    }
   ],
   "source": [
    "IBMProvider.save_account(token='1a6f8188ff1654f78d9c4418c7382addf037bf1aca1ec8a40fe866c40123a30913609310721808e16cf25f3f5f92de14f163d30a8162b5a0bba7bda1324ca1cc', overwrite=True )\n",
    "provider = IBMProvider(instance=\"usc/hen-research-g/hen-lab\")\n",
    "\n",
    "backend = provider.get_backend('ibm_strasbourg')\n",
    "Estimator = BackendEstimator(backend)\n",
    "job = Estimator.run( [FullCirc]*len(Ops) , [Ops[i] for i in range(len(Ops))]  , shots = 5000 )\n",
    "id=job.job_id()\n",
    "print(f'The job id is {id}')"
   ]
  },
  {
   "cell_type": "code",
   "execution_count": 164,
   "metadata": {},
   "outputs": [],
   "source": [
    "results = job.result()\n",
    "#counts = results.get_counts()\n"
   ]
  },
  {
   "cell_type": "code",
   "execution_count": 165,
   "metadata": {},
   "outputs": [
    {
     "name": "stdout",
     "output_type": "stream",
     "text": [
      "The values are [ 0.0176  0.138   0.942  -0.1512] and the metadata is [{'variance': 0.99969024, 'shots': 5000}, {'variance': 0.980956, 'shots': 5000}, {'variance': 0.11263600000000007, 'shots': 5000}, {'variance': 0.97713856, 'shots': 5000}]\n"
     ]
    }
   ],
   "source": [
    "values = results.values\n",
    "metadata = results.metadata\n",
    "print(f'The values are {values} and the metadata is {metadata}')"
   ]
  },
  {
   "cell_type": "code",
   "execution_count": null,
   "metadata": {},
   "outputs": [],
   "source": []
  }
 ],
 "metadata": {
  "kernelspec": {
   "display_name": "Python 3",
   "language": "python",
   "name": "python3"
  },
  "language_info": {
   "codemirror_mode": {
    "name": "ipython",
    "version": 3
   },
   "file_extension": ".py",
   "mimetype": "text/x-python",
   "name": "python",
   "nbconvert_exporter": "python",
   "pygments_lexer": "ipython3",
   "version": "3.12.4"
  }
 },
 "nbformat": 4,
 "nbformat_minor": 4
}
