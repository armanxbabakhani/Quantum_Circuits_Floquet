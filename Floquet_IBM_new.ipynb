{
 "cells": [
  {
   "cell_type": "code",
   "execution_count": 218,
   "metadata": {},
   "outputs": [
    {
     "name": "stderr",
     "output_type": "stream",
     "text": [
      "/Users/armanbabakhani/Dropbox/Research/Itay/QuantumCircuits/Qiskit/Quantum_Circuit_Github/Quantum_Circuits_Floquet/PMR_LCU.py:99: SyntaxWarning: invalid escape sequence '\\o'\n",
      "  \"\"\"\n",
      "/Users/armanbabakhani/Dropbox/Research/Itay/QuantumCircuits/Qiskit/Quantum_Circuit_Github/Quantum_Circuits_Floquet/PMR_LCU.py:267: SyntaxWarning: invalid escape sequence '\\o'\n",
      "  \"\"\"\"\n",
      "/Users/armanbabakhani/Dropbox/Research/Itay/QuantumCircuits/Qiskit/Quantum_Circuit_Github/Quantum_Circuits_Floquet/PMR_LCU.py:299: SyntaxWarning: invalid escape sequence '\\o'\n",
      "  \"\"\"\"\n",
      "/Users/armanbabakhani/Dropbox/Research/Itay/QuantumCircuits/Qiskit/Quantum_Circuit_Github/Quantum_Circuits_Floquet/PMR_LCU.py:338: SyntaxWarning: invalid escape sequence '\\o'\n",
      "  \"\"\"\n"
     ]
    }
   ],
   "source": [
    "import qiskit as qk\n",
    "import numpy as np\n",
    "import scipy.linalg as lin\n",
    "import math\n",
    "from qiskit.quantum_info import Statevector , Operator , partial_trace , DensityMatrix\n",
    "from qiskit.circuit.library.standard_gates import HGate , XGate\n",
    "from qiskit.circuit.library import GlobalPhaseGate\n",
    "from qiskit.extensions import Initialize , UnitaryGate\n",
    "from qiskit.providers.aer import AerSimulator\n",
    "import sys\n",
    "import matplotlib.pyplot as plt\n",
    "from qiskit_ibm_provider import IBMProvider\n",
    "from qiskit.quantum_info import SparsePauliOp\n",
    "from qiskit.primitives import BackendEstimator\n",
    "from qiskit import QuantumCircuit, Aer, transpile\n",
    "import importlib\n",
    "import PMR_LCU\n",
    "importlib.reload(PMR_LCU)                                   # Reload to reflect updates\n",
    "from PMR_LCU import *"
   ]
  },
  {
   "cell_type": "markdown",
   "metadata": {},
   "source": [
    "## Parameters of the system\n",
    "\n",
    "Here, we define the parameters for the simulation of the Hamiltonian $H(t) = \\sum_{i=1}^n h_i Z_i + V_x \\sum_{i=1}^{n-1} Z_i Z_{i+1} + cos(\\omega t) \\sum_{i=1}^{n-1} c_i X_i X_{i+1}$.  "
   ]
  },
  {
   "cell_type": "code",
   "execution_count": 313,
   "metadata": {},
   "outputs": [
    {
     "name": "stdout",
     "output_type": "stream",
     "text": [
      "The simulation parameters are ... \n",
      "GDt is 0.6931471805599453 Gamma = 1.0 V=[0.0] hs = [1. 2.] Gamma_list = [array([1.]), [0.5, 0.5]] Delta_t = 0.6931471805599453 time = 0.6931471805599453 Omega = 0.0 Number of time steps = 1\n"
     ]
    }
   ],
   "source": [
    "#====================== Circuit Paramters ================\n",
    "number_of_spins = 2    # number of particles (qubits)\n",
    "K = 2                  # only two modes -w and w\n",
    "M = number_of_spins-1  # number of permutation operators\n",
    "\n",
    "C0 = 1.0               # Parameter for the floquet interaction strength\n",
    "Coeffs = C0*np.array([2+(-1)**x for x in np.arange(1,number_of_spins)]) # there are n elements in this array\n",
    "Omega = 0.0\n",
    "h0 = 1.0\n",
    "Longit_h = h0*np.array([1.5 + 0.5*(-1)**x for x in range(number_of_spins)])\n",
    "Longit_h = np.array([1. , 2.])\n",
    "Vx = [0.0]*M\n",
    "C = np.max(Coeffs)\n",
    "\n",
    "Gammas_i = Coeffs\n",
    "Gammas_k = [0.5]*K\n",
    "Qmax = 2\n",
    "\n",
    "Gamma_1 = np.sum(Gammas_i)\n",
    "Gamma_2 = np.sum(Gammas_k)\n",
    "Gamma = Gamma_2 * Gamma_1\n",
    "Gamma_list = [Gammas_i , Gammas_k]\n",
    "\n",
    "if Gamma < 0.5:\n",
    "    Delta_t = np.log(2)\n",
    "else:\n",
    "    Delta_t = np.log(2)/(Gamma)\n",
    "GDt = Gamma*Delta_t\n",
    "\n",
    "sfactor = np.sqrt(1 + GDt + GDt**2)\n",
    "\n",
    "NumberOfTimeSteps = 1\n",
    "FinalTime = NumberOfTimeSteps*Delta_t\n",
    "\n",
    "print(f'The simulation parameters are ... ')\n",
    "print(f'GDt is {GDt} Gamma = {Gamma} V={Vx} hs = {Longit_h} Gamma_list = {Gamma_list} Delta_t = {Delta_t} time = {FinalTime} Omega = {Omega} Number of time steps = {NumberOfTimeSteps}')"
   ]
  },
  {
   "cell_type": "markdown",
   "metadata": {},
   "source": [
    "### Reading in exact numerical results"
   ]
  },
  {
   "cell_type": "code",
   "execution_count": 137,
   "metadata": {},
   "outputs": [
    {
     "name": "stdout",
     "output_type": "stream",
     "text": [
      "The exact vector is [-0.581952+0.771491j  0.      +0.j        0.      +0.j\n",
      "  0.      -0.257164j]\n"
     ]
    }
   ],
   "source": [
    "InitialStateString = '0'*number_of_spins\n",
    "# Read in the theoretical (exact numerical) values of the final state, given the initial state!\n",
    "import json \n",
    "\n",
    "# with open(\"./Exact_Results/FinalState_params1_numoftimestep_\"+str(NumberOfTimeSteps)+\"_init_\"+InitialStateString+\".json\", \"r\") as f:\n",
    "    # data = json.load(f)\n",
    "\n",
    "with open(\"./Exact_Results/FinalState_testparV=0_numoftimestep_\"+str(NumberOfTimeSteps)+\"_init_\"+InitialStateString+\".json\", \"r\") as f:\n",
    "    data = json.load(f)\n",
    "\n",
    "# Extract the first term (complex number) from each entry\n",
    "complex_numbers = []\n",
    "for entry in data:\n",
    "    # Extract everything before the first comma (first term)\n",
    "    first_term = entry.split(\",\")[0].strip(\" {}\")  # Remove spaces and braces\n",
    "    # Replace \" I\" with \"j\" (Python complex notation)\n",
    "    first_term = first_term.replace(\" \", \"\").replace(\"I\", \"j\")\n",
    "    # Append to list\n",
    "    complex_numbers.append(first_term)\n",
    "\n",
    "# Convert strings to complex numbers\n",
    "FinalStateExact = np.array([complex(num) for num in complex_numbers], dtype=np.complex128)\n",
    "#FinalStateExact = [FinalStateExact[0] , 0 , 0 , FinalStateExact[1]]\n",
    "print(f'The exact vector is {FinalStateExact}')"
   ]
  },
  {
   "cell_type": "markdown",
   "metadata": {},
   "source": [
    "### Initializing the Quantum circuit"
   ]
  },
  {
   "cell_type": "code",
   "execution_count": 314,
   "metadata": {},
   "outputs": [],
   "source": [
    "Nkq = int(np.log2(K))*Qmax\n",
    "Niq = int(np.log2(number_of_spins))*Qmax\n",
    "Ntotal = Nkq + Niq + number_of_spins + Qmax + 1\n",
    "\n",
    "kqQubits = qk.QuantumRegister(Nkq , '|kq>')\n",
    "iqQubits = qk.QuantumRegister(Niq , '|iq>')\n",
    "zQubits = qk.QuantumRegister(number_of_spins , '|z>')\n",
    "qQubits = qk.QuantumRegister(Qmax , '|q>')\n",
    "ancQubit = qk.QuantumRegister(1 , '|anc>')\n",
    "\n",
    "kq_qbits_index = 0\n",
    "iq_qbits_index = 1\n",
    "z_qbits_index = 2\n",
    "q_qbits_index = 3\n",
    "anc_qbits_index = 4\n",
    "\n",
    "# =========================== Building the circuits  U_0(dt) U_od(dt) ... U_0(dt) U_od(dt) =================================== #\n",
    "\n",
    "FullCirc = qk.QuantumCircuit( kqQubits , iqQubits , zQubits , qQubits , ancQubit )\n",
    "FullCircwithPS = qk.QuantumCircuit( kqQubits , iqQubits , zQubits , qQubits , ancQubit )\n",
    "\n",
    "\n",
    "numberofsteps = FinalTime\n",
    "# Prepare_full_unitary( FullCirc , [Longit_h , Vx] , Omega , Delta_t , Gamma_list , [kq_qbits_index , iq_qbits_index , z_qbits_index , q_qbits_index , anc_qbits_index] , NumberOfTimeSteps )\n",
    "\n",
    "\n",
    "Prepare_full_unitary_wo_Rgate( FullCircwithPS , [Longit_h , Vx] , Omega , Delta_t , Gamma_list , [kq_qbits_index , iq_qbits_index , z_qbits_index , q_qbits_index , anc_qbits_index] , NumberOfTimeSteps )\n",
    "\n",
    "# FullCircwithPS.ry(2*GDt ,iqQubits[0])\n",
    "# FullCircwithPS.cx(iqQubits[0] , qQubits[0])\n",
    "\n",
    "# Uc_Phi(FullCircwithPS , M , [Longit_h , Vx] , Delta_t , Qmax , iq_qbits_index , z_qbits_index , q_qbits_index , False)\n",
    "\n",
    "# FullCircwithPS.cx(iqQubits[0] , qQubits[0]) \n",
    "# FullCircwithPS.ry(-2*GDt ,iqQubits[0])\n",
    "\n",
    "\n",
    "#backend_sim = Aer.get_backend('qasm_simulator')\n",
    "#transpiled_circuit = transpile(FullCircwithPS, backend_sim)\n",
    "\n",
    "#print(FullCircwithPS.draw())\n",
    "#Ops = SparsePauliOp.from_list([('I'*(Nkq + Niq)+'XIII'+'I'*Q , 1) , ('I'*(Nkq + Niq)+'IXII'+'I'*Q , 1) , ('I'*(Nkq + Niq)+'ZIII'+'I'*Q , 1) , ('I'*(Nkq + Niq)+'IZII'+'I'*Q , 1)])\n",
    "#print(f'Circuit Prepared! The parameters are:  Vx = {Vx} , hs = {Longit_h} , Omega = {Omega} , C0 = {C0} , Q = {Q} , Gamma = {Gam} , Delta_t = {Delta_t} , GDt = {Gam*Delta_t}') "
   ]
  },
  {
   "cell_type": "markdown",
   "metadata": {},
   "source": [
    "### State initialization and simulation"
   ]
  },
  {
   "cell_type": "code",
   "execution_count": 316,
   "metadata": {},
   "outputs": [
    {
     "name": "stdout",
     "output_type": "stream",
     "text": [
      "The initial state is Statevector([0.70710678+0.j, 0.        +0.j, 0.        +0.j,\n",
      "             0.70710678+0.j],\n",
      "            dims=(2, 2))\n",
      "The normalization factor is 0.6228322506164639\n",
      "The Post selected state is [-0.39448369-0.82977001j  0.        +0.j          0.        +0.j\n",
      " -0.39448369+0.01571536j]\n",
      "l1 is 4 and l2 is 4\n",
      "The overlap of the Post selected with the exact is (-0.25824552546764556-0.42712585592884067j)\n",
      "l1 is 4 and l2 is 4\n",
      "The overlap of the Post selected with the exact is (-0.41150220552507366+0.3636841094473334j)\n"
     ]
    }
   ],
   "source": [
    "# Initializing the |z> state:\n",
    "InitStateZ = Statevector.from_label('0'*number_of_spins)\n",
    "InitStateZ += Statevector.from_label('1'*number_of_spins)\n",
    "InitStateZ = InitStateZ/np.linalg.norm(InitStateZ)\n",
    "\n",
    "print(f'The initial state is {InitStateZ}')\n",
    "\n",
    "# Making the full system state:\n",
    "InitState = Statevector.from_label('0'*Nkq)\n",
    "InitState = Statevector.from_label('0'*Niq).tensor(InitState)\n",
    "InitState = InitStateZ.tensor(InitState)\n",
    "InitState = Statevector.from_label('0'*Qmax).tensor(InitState)\n",
    "InitState = Statevector.from_label('0').tensor(InitState)\n",
    "\n",
    "FinalStateFull = InitState.evolve(FullCirc)\n",
    "FinalStatewoRgate = InitState.evolve(FullCircwithPS)\n",
    "\n",
    "def state_overlap( state1 , state2):\n",
    "    l1 = len(state1)\n",
    "    l2 = len(state2)\n",
    "    # print(f'l1 is {l1} and l2 is {l2}')\n",
    "    if l1 != l2:\n",
    "        ValueError(\"The dimensions of the states don't match!\")\n",
    "    else:\n",
    "        return np.dot(np.conjugate(state1) , state2)\n",
    "\n",
    "def post_select_state(TotalState , NumOfPreviousQubits , NumOfAfterQubits):\n",
    "    \"\"\" \n",
    "    TotalState is the state |kq> tensor |iq> tensor |z> tensor |q> tensor |ancilla>\n",
    "    NumOfPreviousQubits specifies the number of qubits that are on the registers previous to the z register.\n",
    "    NumOfAfterQubits specifies the number of qubits that are on the registers after the z register.\n",
    "    \"\"\"\n",
    "    increment = 2**( NumOfPreviousQubits )\n",
    "    HighestMultiple = int( len(TotalState) / increment)\n",
    "    StateHighCut = np.array( [TotalState[i*increment] for i in range(HighestMultiple)] )\n",
    "\n",
    "    aftercut = 2**(NumOfAfterQubits)\n",
    "    return StateHighCut[0:int(len(StateHighCut)/aftercut)]\n",
    "\n",
    "FinalStatePS = post_select_state( FinalStatewoRgate , Niq + Nkq , Qmax+1 )\n",
    "NormalizationPS = np.linalg.norm( FinalStatePS )\n",
    "FinalStatewithR = post_select_state( FinalStateFull , Niq + Nkq , Qmax+1 )\n",
    "\n",
    "print( f'The normalization factor is {NormalizationPS}' )\n",
    "print( f'The Post selected state is {FinalStatePS/NormalizationPS}' )\n",
    "print( f'The overlap of the Post selected with the exact is {state_overlap(FinalStatePS , FinalStateExact)}' )\n",
    "print( f'The overlap of the Post selected with the exact is {state_overlap(FinalStatewithR , FinalStateExact)}' )\n",
    "# a = (1-1.0j*GDt*np.exp(-3.0j*(Delta_t)))\n",
    "# b = (1-1.0j*GDt*np.exp(3.0j*(Delta_t)))\n",
    "# n = np.sqrt(np.abs(a)**2 + np.abs(b)**2)\n",
    "# print(f'The number is {-1.0j*np.sqrt(GDt)/(np.sqrt(1 + GDt + GDt**2/2.0))}')\n",
    "# print( f'The expected coefficients are  {1.0/np.sqrt(1 + GDt**2)} and {a/n} and {b/n}' )\n"
   ]
  },
  {
   "cell_type": "code",
   "execution_count": 96,
   "metadata": {},
   "outputs": [
    {
     "name": "stdout",
     "output_type": "stream",
     "text": [
      "The highest multiple is 32\n",
      "[0.+0.j 0.+0.j 0.+0.j 1.+0.j 0.+0.j 0.+0.j 0.+0.j 0.+0.j 0.+0.j 0.+0.j\n",
      " 0.+0.j 0.+0.j 0.+0.j 0.+0.j 0.+0.j 0.+0.j 0.+0.j 0.+0.j 0.+0.j 0.+0.j\n",
      " 0.+0.j 0.+0.j 0.+0.j 0.+0.j 0.+0.j 0.+0.j 0.+0.j 0.+0.j 0.+0.j 0.+0.j\n",
      " 0.+0.j 0.+0.j]\n",
      "[0.+0.j 0.+0.j 0.+0.j 1.+0.j]\n"
     ]
    }
   ],
   "source": [
    "nlow = 3\n",
    "nhigh = 5\n",
    "a = Statevector.from_label('0'*nlow + '11' + '0'*nhigh)\n",
    "\n",
    "increment = 2**( nhigh )\n",
    "HighestMultiple = int( 2**( nlow + nhigh + 2 ) / increment)\n",
    "print(f'The highest multiple is {HighestMultiple}')\n",
    "b = np.array( [a[i*increment] for i in range(HighestMultiple)] )\n",
    "\n",
    "lowcut = 2**(nlow)\n",
    "c = b[0:int(len(b)/lowcut)]\n",
    "c = c/np.linalg.norm( c )\n",
    "\n",
    "print(b)\n",
    "print(c)"
   ]
  },
  {
   "cell_type": "code",
   "execution_count": 162,
   "metadata": {},
   "outputs": [
    {
     "name": "stdout",
     "output_type": "stream",
     "text": [
      "The gate depth is 308 , total number of qubits required is 10, the number of Toffoli gates is 36, and number of CNOTs is 158\n"
     ]
    }
   ],
   "source": [
    "# Transpiling the circuit and getting a gate count:\n",
    "backend_sim = Aer.get_backend('qasm_simulator')\n",
    "transpiled_circuit = transpile(FullCirc, backend_sim)\n",
    "\n",
    "gate_count = transpiled_circuit.count_ops()\n",
    "gate_depth = transpiled_circuit.depth()\n",
    "Toffoli_count = gate_count.get('ccx' , 0)\n",
    "CNOT_count = gate_count.get('cx' , 0)\n",
    "#print(\"\\nGate Count:\", gate_count)\n",
    "print(f'The gate depth is {gate_depth} , total number of qubits required is {Ntotal}, the number of Toffoli gates is {Toffoli_count}, and number of CNOTs is {CNOT_count}')\n",
    "\n",
    "#print(FullCirc.draw())"
   ]
  },
  {
   "cell_type": "code",
   "execution_count": 163,
   "metadata": {},
   "outputs": [
    {
     "name": "stdout",
     "output_type": "stream",
     "text": [
      "The job id is 3978659f-249a-4f61-bd27-78e21a3ca017\n"
     ]
    }
   ],
   "source": [
    "IBMProvider.save_account(token='1a6f8188ff1654f78d9c4418c7382addf037bf1aca1ec8a40fe866c40123a30913609310721808e16cf25f3f5f92de14f163d30a8162b5a0bba7bda1324ca1cc', overwrite=True )\n",
    "provider = IBMProvider(instance=\"usc/hen-research-g/hen-lab\")\n",
    "\n",
    "backend = provider.get_backend('ibm_strasbourg')\n",
    "Estimator = BackendEstimator(backend)\n",
    "job = Estimator.run( [FullCirc]*len(Ops) , [Ops[i] for i in range(len(Ops))]  , shots = 5000 )\n",
    "id=job.job_id()\n",
    "print(f'The job id is {id}')"
   ]
  },
  {
   "cell_type": "code",
   "execution_count": 164,
   "metadata": {},
   "outputs": [],
   "source": [
    "results = job.result()\n",
    "#counts = results.get_counts()\n"
   ]
  },
  {
   "cell_type": "code",
   "execution_count": 165,
   "metadata": {},
   "outputs": [
    {
     "name": "stdout",
     "output_type": "stream",
     "text": [
      "The values are [ 0.0176  0.138   0.942  -0.1512] and the metadata is [{'variance': 0.99969024, 'shots': 5000}, {'variance': 0.980956, 'shots': 5000}, {'variance': 0.11263600000000007, 'shots': 5000}, {'variance': 0.97713856, 'shots': 5000}]\n"
     ]
    }
   ],
   "source": [
    "values = results.values\n",
    "metadata = results.metadata\n",
    "print(f'The values are {values} and the metadata is {metadata}')"
   ]
  },
  {
   "cell_type": "code",
   "execution_count": null,
   "metadata": {},
   "outputs": [],
   "source": []
  },
  {
   "cell_type": "markdown",
   "metadata": {},
   "source": [
    "### Tests"
   ]
  },
  {
   "cell_type": "markdown",
   "metadata": {},
   "source": [
    "#### Convention Test"
   ]
  },
  {
   "cell_type": "code",
   "execution_count": 156,
   "metadata": {},
   "outputs": [
    {
     "name": "stdout",
     "output_type": "stream",
     "text": [
      "[64]\n"
     ]
    }
   ],
   "source": [
    "# Convention tests:\n",
    "number_of_spins = 2\n",
    "Qmax = 2\n",
    "K = 2\n",
    "Nkq = int(np.log2(K))*Qmax\n",
    "Niq = int(np.log2(number_of_spins))*Qmax\n",
    "Ntotal = Nkq + Niq + number_of_spins + Qmax + 1\n",
    "\n",
    "kqQubits = qk.QuantumRegister(Nkq , '|kq>')\n",
    "iqQubits = qk.QuantumRegister(Niq , '|iq>')\n",
    "zQubits = qk.QuantumRegister(number_of_spins , '|z>')\n",
    "qQubits = qk.QuantumRegister(Qmax , '|q>')\n",
    "ancQubit = qk.QuantumRegister(1 , '|anc>')\n",
    "\n",
    "kq_qbits_index = 0\n",
    "iq_qbits_index = 1\n",
    "z_qbits_index = 2\n",
    "q_qbits_index = 3\n",
    "anc_qbits_index = 4\n",
    "\n",
    "# =========================== Building the circuits  U_0(dt) U_od(dt) ... U_0(dt) U_od(dt) =================================== #\n",
    "\n",
    "FullCirc = qk.QuantumCircuit( kqQubits , iqQubits , zQubits , qQubits , ancQubit )\n",
    "FullCircwithPS = qk.QuantumCircuit( kqQubits , iqQubits , zQubits , qQubits , ancQubit )\n",
    "\n",
    "FullCirc.x(qQubits[0])\n",
    "#FullCirc.x(zQubits[1])\n",
    "\n",
    "# Initializing the |z> state:\n",
    "InitStateZ = Statevector.from_label('0'*number_of_spins)\n",
    "\n",
    "# Making the full system state:\n",
    "InitState = Statevector.from_label('0'*Nkq)\n",
    "InitState = Statevector.from_label('0'*Niq).tensor(InitState)\n",
    "InitState = InitStateZ.tensor(InitState)\n",
    "InitState = Statevector.from_label('0'*Qmax).tensor(InitState)\n",
    "InitState = Statevector.from_label('0').tensor(InitState)\n",
    "\n",
    "finalstate = InitState.evolve(FullCirc)\n",
    "finalstate_index = [i for i in range(len(finalstate)) if finalstate[i]!=0 ]\n",
    "print(finalstate_index)\n"
   ]
  },
  {
   "cell_type": "markdown",
   "metadata": {},
   "source": [
    "#### Permutation $U_{cP}$ test"
   ]
  },
  {
   "cell_type": "code",
   "execution_count": 169,
   "metadata": {},
   "outputs": [
    {
     "name": "stdout",
     "output_type": "stream",
     "text": [
      "                \n",
      "|kq>_0: ────────\n",
      "                \n",
      "|kq>_1: ────────\n",
      "                \n",
      "|iq>_0: ────────\n",
      "                \n",
      "|iq>_1: ───■────\n",
      "        ┌──┴───┐\n",
      " |z>_0: ┤0     ├\n",
      "        │  cXX │\n",
      " |z>_1: ┤1     ├\n",
      "        └──────┘\n",
      " |q>_0: ────────\n",
      "                \n",
      " |q>_1: ────────\n",
      "                \n",
      " |anc>: ────────\n",
      "                \n"
     ]
    }
   ],
   "source": [
    "number_of_spins = 2\n",
    "Qmax = 2\n",
    "K = 2\n",
    "Nkq = int(np.log2(K))*Qmax\n",
    "Niq = int(np.log2(number_of_spins))*Qmax\n",
    "Ntotal = Nkq + Niq + number_of_spins + Qmax + 1\n",
    "\n",
    "kqQubits = qk.QuantumRegister(Nkq , '|kq>')\n",
    "iqQubits = qk.QuantumRegister(Niq , '|iq>')\n",
    "zQubits = qk.QuantumRegister(number_of_spins , '|z>')\n",
    "qQubits = qk.QuantumRegister(Qmax , '|q>')\n",
    "ancQubit = qk.QuantumRegister(1 , '|anc>')\n",
    "\n",
    "kq_qbits_index = 0\n",
    "iq_qbits_index = 1\n",
    "z_qbits_index = 2\n",
    "q_qbits_index = 3\n",
    "anc_qbits_index = 4\n",
    "\n",
    "FullCirc = qk.QuantumCircuit( kqQubits , iqQubits , zQubits , qQubits , ancQubit )\n",
    "\n",
    "#Uc_P( FullCirc , 1 , 1 , 2 , 1 , False )\n",
    "Uc_P( FullCirc , 1 , 1 , 2 , 2 , True )\n",
    "\n",
    "print(FullCirc.draw())"
   ]
  },
  {
   "cell_type": "markdown",
   "metadata": {},
   "source": [
    "#### State preparation test"
   ]
  },
  {
   "cell_type": "code",
   "execution_count": 3,
   "metadata": {},
   "outputs": [
    {
     "name": "stdout",
     "output_type": "stream",
     "text": [
      "The final state is [(0.7191874465197123+7.151800912622856e-16j), (0.4233892537998104+1.2049272784730999e-17j), (0.4233892537998102+1.2049272784730971e-17j), (0.17624733778282453-1.8466017944796e-16j), (0.17624733778282442-1.6503402371441281e-16j), (0.1762473377828244-2.1409941304828079e-16j), (0.1762473377828243-2.33725568781828e-16j)] and the indices are [0, 68, 69, 204, 205, 206, 207]\n"
     ]
    },
    {
     "name": "stderr",
     "output_type": "stream",
     "text": [
      "/Users/armanbabakhani/Dropbox/Research/Itay/QuantumCircuits/Qiskit/qiskit_0.42/lib/python3.12/site-packages/numpy/linalg/linalg.py:2180: RuntimeWarning: divide by zero encountered in det\n",
      "  r = _umath_linalg.det(a, signature=signature)\n",
      "/Users/armanbabakhani/Dropbox/Research/Itay/QuantumCircuits/Qiskit/qiskit_0.42/lib/python3.12/site-packages/numpy/linalg/linalg.py:2180: RuntimeWarning: invalid value encountered in det\n",
      "  r = _umath_linalg.det(a, signature=signature)\n"
     ]
    }
   ],
   "source": [
    "number_of_spins = 2\n",
    "Qmax = 2\n",
    "K = 2\n",
    "Nkq = int(np.log2(K))*Qmax\n",
    "Niq = int(np.log2(number_of_spins))*Qmax\n",
    "Ntotal = Nkq + Niq + number_of_spins + Qmax + 1\n",
    "\n",
    "kqQubits = qk.QuantumRegister(Nkq , '|kq>')\n",
    "iqQubits = qk.QuantumRegister(Niq , '|iq>')\n",
    "zQubits = qk.QuantumRegister(number_of_spins , '|z>')\n",
    "qQubits = qk.QuantumRegister(Qmax , '|q>')\n",
    "ancQubit = qk.QuantumRegister(1 , '|anc>')\n",
    "\n",
    "kq_qbits_index = 0\n",
    "iq_qbits_index = 1\n",
    "z_qbits_index = 2\n",
    "q_qbits_index = 3\n",
    "anc_qbits_index = 4\n",
    "\n",
    "FullCirc = qk.QuantumCircuit( kqQubits , iqQubits , zQubits , qQubits , ancQubit )\n",
    "B_state_prepare(FullCirc , 2 , np.log(2) , [[1] , [0.5 , 0.5]] , kq_qbits_index , iq_qbits_index , q_qbits_index ,  False)\n",
    "\n",
    "\n",
    "# Initializing the |z> state:\n",
    "InitStateZ = Statevector.from_label('0'*number_of_spins)\n",
    "\n",
    "# Making the full system state:\n",
    "InitState = Statevector.from_label('0'*Nkq)\n",
    "InitState = Statevector.from_label('0'*Niq).tensor(InitState)\n",
    "InitState = InitStateZ.tensor(InitState)\n",
    "InitState = Statevector.from_label('0'*Qmax).tensor(InitState)\n",
    "InitState = Statevector.from_label('0').tensor(InitState)\n",
    "\n",
    "final = InitState.evolve(FullCirc)\n",
    "finalinds = []\n",
    "finalstate = []\n",
    "for i in range(len(final)):\n",
    "    if abs(final[i]) > 1E-6:\n",
    "        finalinds.append(i)\n",
    "        finalstate.append(final[i])\n",
    "print(f'The final state is {finalstate} and the indices are {finalinds}')"
   ]
  },
  {
   "cell_type": "code",
   "execution_count": 14,
   "metadata": {},
   "outputs": [
    {
     "name": "stdout",
     "output_type": "stream",
     "text": [
      "0.4233892537998112\n"
     ]
    }
   ],
   "source": [
    "print(np.sqrt(np.log(2)/2.0)/np.sqrt(1 + np.log(2) + (np.log(2))**2/2.0))"
   ]
  },
  {
   "cell_type": "code",
   "execution_count": null,
   "metadata": {},
   "outputs": [],
   "source": []
  }
 ],
 "metadata": {
  "kernelspec": {
   "display_name": "Python 3",
   "language": "python",
   "name": "python3"
  },
  "language_info": {
   "codemirror_mode": {
    "name": "ipython",
    "version": 3
   },
   "file_extension": ".py",
   "mimetype": "text/x-python",
   "name": "python",
   "nbconvert_exporter": "python",
   "pygments_lexer": "ipython3",
   "version": "3.12.4"
  }
 },
 "nbformat": 4,
 "nbformat_minor": 4
}
