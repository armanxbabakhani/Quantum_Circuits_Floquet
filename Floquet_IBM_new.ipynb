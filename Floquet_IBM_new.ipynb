{
 "cells": [
  {
   "cell_type": "code",
   "execution_count": 7,
   "metadata": {},
   "outputs": [
    {
     "name": "stderr",
     "output_type": "stream",
     "text": [
      "/Users/armanbabakhani/Dropbox/Research/Itay/QuantumCircuits/Qiskit/Quantum_Circuit_Github/Quantum_Circuits_Floquet/PMR_LCU.py:94: SyntaxWarning: invalid escape sequence '\\o'\n",
      "  \"\"\"\n",
      "/Users/armanbabakhani/Dropbox/Research/Itay/QuantumCircuits/Qiskit/Quantum_Circuit_Github/Quantum_Circuits_Floquet/PMR_LCU.py:259: SyntaxWarning: invalid escape sequence '\\o'\n",
      "  \"\"\"\"\n",
      "/Users/armanbabakhani/Dropbox/Research/Itay/QuantumCircuits/Qiskit/Quantum_Circuit_Github/Quantum_Circuits_Floquet/PMR_LCU.py:288: SyntaxWarning: invalid escape sequence '\\o'\n",
      "  \"\"\"\n"
     ]
    },
    {
     "data": {
      "text/plain": [
       "<module 'PMR_LCU' from '/Users/armanbabakhani/Dropbox/Research/Itay/QuantumCircuits/Qiskit/Quantum_Circuit_Github/Quantum_Circuits_Floquet/PMR_LCU.py'>"
      ]
     },
     "execution_count": 7,
     "metadata": {},
     "output_type": "execute_result"
    }
   ],
   "source": [
    "import qiskit as qk\n",
    "import numpy as np\n",
    "import scipy.linalg as lin\n",
    "import math\n",
    "from qiskit.quantum_info import Statevector , Operator , partial_trace , DensityMatrix\n",
    "from qiskit.circuit.library.standard_gates import HGate , XGate\n",
    "from qiskit.circuit.library import GlobalPhaseGate\n",
    "from qiskit.extensions import Initialize , UnitaryGate\n",
    "from qiskit.providers.aer import AerSimulator\n",
    "import sys\n",
    "import matplotlib.pyplot as plt\n",
    "from qiskit_ibm_provider import IBMProvider\n",
    "from qiskit.quantum_info import SparsePauliOp\n",
    "from qiskit.primitives import BackendEstimator\n",
    "from qiskit import QuantumCircuit, Aer, transpile\n",
    "import importlib\n",
    "import PMR_LCU\n",
    "importlib.reload(PMR_LCU)  # Reload to reflect updates"
   ]
  },
  {
   "cell_type": "markdown",
   "metadata": {},
   "source": [
    "## Parameters of the system\n",
    "\n",
    "Here, we define the parameters for the simulation of the Hamiltonian $H(t) = \\sum_{i=1}^n h_i Z_i + V_x \\sum_{i=1}^{n-1} Z_i Z_{i+1} + cos(\\omega t) \\sum_{i=1}^{n-1} c_i X_i X_{i+1}$.  "
   ]
  },
  {
   "cell_type": "code",
   "execution_count": 8,
   "metadata": {},
   "outputs": [],
   "source": [
    "#====================== Circuit Paramters ================\n",
    "number_of_spins = 4 # number of particles (qubits)\n",
    "C0 = 1.0 # Parameter for the floquet interaction strength\n",
    "Coeffs = C0*np.array([2+(-1)**x for x in np.arange(1,number_of_spins)]) # there are n elements in this array\n",
    "Omega = 1.0\n",
    "h0 = 1.0\n",
    "Longit_h = h0*np.array([1.5 + 0.5*(-1)**x for x in range(number_of_spins)])\n",
    "Vx = 1.0\n",
    "C = np.max(Coeffs)\n",
    "\n",
    "Gammas_i = Coeffs\n",
    "Gammas_k = [0.5 , 0.5]\n",
    "Qmax = 2\n",
    "\n",
    "Gamma_1 = np.sum(Gammas_i)\n",
    "Gamma_2 = np.sum(Gammas_k)\n",
    "Gamma = Gamma_2 * Gamma_1\n",
    "Delta_t = np.log(2)/Gamma\n",
    "GDt = Gamma*Delta_t"
   ]
  },
  {
   "cell_type": "code",
   "execution_count": 9,
   "metadata": {},
   "outputs": [
    {
     "name": "stdout",
     "output_type": "stream",
     "text": [
      "The Gammas are [array([1., 3., 1.]), [0.5, 0.5]]\n",
      "The unitary built in create unitary is [[ 0.70710678  0.70710678]\n",
      " [ 0.70710678 -0.70710678]]\n",
      "The unitary built in create unitary is [[ 0.70710678  0.70710678]\n",
      " [ 0.70710678 -0.70710678]]\n",
      "M is greater than 1\n",
      "M is greater than 1\n",
      "The unitary built in create unitary is [[ 0.70710678  0.70710678]\n",
      " [ 0.70710678 -0.70710678]]\n",
      "The unitary built in create unitary is [[ 0.70710678  0.70710678]\n",
      " [ 0.70710678 -0.70710678]]\n",
      "The evolved state is [[(0.9999999999999967+9.378044531667194e-16j), 0]]\n",
      "                                         ┌─────────┐                       »\n",
      "|kq>_0: ─────────────────────────────────┤ Unitary ├───────────────────────»\n",
      "                                         └────┬────┘┌─────────┐            »\n",
      "|kq>_1: ──────────────────────────────────────┼─────┤ Unitary ├────────────»\n",
      "        ┌────────────┐                        │     └────┬────┘┌──────────┐»\n",
      "|iq>_0: ┤ Ry(1.5363) ├──────■─────────■───────■──────────┼─────┤0         ├»\n",
      "        └────────────┘      │         │                  │     │  Unitary │»\n",
      "|iq>_1: ────────────────────┼─────────┼──────────────────┼─────┤1         ├»\n",
      "                      ┌─────┴──────┐  │                  │     ├──────────┤»\n",
      "|iq>_2: ──────────────┤ Ry(1.0641) ├──┼───────■──────────■─────┤0         ├»\n",
      "                      └────────────┘  │       │                │  Unitary │»\n",
      "|iq>_3: ──────────────────────────────┼───────┼────────────────┤1         ├»\n",
      "                                    ┌─┴─┐     │                └──────────┘»\n",
      " |q>_0: ────────────────────────────┤ X ├─────┼────────────────────────────»\n",
      "                                    └───┘   ┌─┴─┐                          »\n",
      " |q>_1: ────────────────────────────────────┤ X ├──────────────────────────»\n",
      "                                            └───┘                          »\n",
      "«                               ┌─────────┐                                   \n",
      "«|kq>_0: ───────────────────────┤ Unitary ├───────────────────────────────────\n",
      "«                    ┌─────────┐└────┬────┘                                   \n",
      "«|kq>_1: ────────────┤ Unitary ├─────┼────────────────────────────────────────\n",
      "«        ┌──────────┐└────┬────┘     │                         ┌─────────────┐\n",
      "«|iq>_0: ┤0         ├─────┼──────────■───────■─────────■───────┤ Ry(-1.5363) ├\n",
      "«        │  Unitary │     │                  │         │       └─────────────┘\n",
      "«|iq>_1: ┤1         ├─────┼──────────────────┼─────────┼──────────────────────\n",
      "«        ├──────────┤     │                  │  ┌──────┴──────┐               \n",
      "«|iq>_2: ┤0         ├─────■──────────■───────┼──┤ Ry(-1.0641) ├───────────────\n",
      "«        │  Unitary │                │       │  └─────────────┘               \n",
      "«|iq>_3: ┤1         ├────────────────┼───────┼────────────────────────────────\n",
      "«        └──────────┘                │     ┌─┴─┐                              \n",
      "« |q>_0: ────────────────────────────┼─────┤ X ├──────────────────────────────\n",
      "«                                  ┌─┴─┐   └───┘                              \n",
      "« |q>_1: ──────────────────────────┤ X ├──────────────────────────────────────\n",
      "«                                  └───┘                                      \n"
     ]
    }
   ],
   "source": [
    "K = 2     # only two modes -w and w\n",
    "M = number_of_spins-1  # number of permutation operators\n",
    "Nkq = int(np.log2(K))*Qmax\n",
    "Niq = int(np.log2(number_of_spins))*Qmax\n",
    "Ntotal = Nkq + Niq + number_of_spins + 2 + Qmax\n",
    "\n",
    "kqQubits = qk.QuantumRegister(Nkq , '|kq>')\n",
    "iqQubits = qk.QuantumRegister(Niq , '|iq>')\n",
    "#zQubits = qk.QuantumRegister(number_of_spins + 1 , '|z>') # n+1 st is an ancilla for diagonal rotations!\n",
    "#ancQubit = qk.QuantumRegister(1 , '|anc>')\n",
    "qQubits = qk.QuantumRegister(Qmax , '|q>')\n",
    "\n",
    "kq_qbits_index = 0\n",
    "iq_qbits_index = 1\n",
    "z_qbits_index = 2 \n",
    "anc_qbits_index = 3\n",
    "q_qbits_index = 4\n",
    "\n",
    "#FullCirc = qk.QuantumCircuit( kqQubits , iqQubits , zQubits , ancQubit , qQubits )\n",
    "Gammas_list = [ Gammas_i , Gammas_k ]\n",
    "\n",
    "print(f'The Gammas are {Gammas_list}')\n",
    "# =========================== Building the circuits  U_0(dt) U_od(dt) ... U_0(dt) U_od(dt) =================================== #\n",
    "\n",
    "#FullCirc = qk.QuantumCircuit( kqQubits , iqQubits , zQubits , ancQubit , qQubits )\n",
    "FullCirc = qk.QuantumCircuit( kqQubits , iqQubits , qQubits )\n",
    "kq_qbits_index = 0\n",
    "iq_qbits_index = 1\n",
    "q_qbits_index = 2\n",
    "\n",
    "PMR_LCU.B_prepare( FullCirc , Qmax , Delta_t , Gammas_list , kq_qbits_index , iq_qbits_index , q_qbits_index ,  dagger=False )\n",
    "PMR_LCU.B_prepare( FullCirc , Qmax , Delta_t , Gammas_list , kq_qbits_index , iq_qbits_index , q_qbits_index ,  dagger=True )\n",
    "\n",
    "\n",
    "InitialState = PMR_LCU.make_initial_state([1,0,0,0] , number_of_spins , Qmax , M , K)\n",
    "FinalState = InitialState.evolve(FullCirc)\n",
    "FSnonzeros = [[FinalState[i] , i] for i in range(len(FinalState)) if abs(FinalState[i]) > 1E-6]\n",
    "print(f'The evolved state is {FSnonzeros}')\n",
    "\n",
    "print(FullCirc.draw())\n",
    "#Prepare_full_unitary( FullCirc , number_of_spins , Qmax , current_time , Gamma_function , kq_qbits_index , iq_qbits_index , z_qbits_index , q_qbit_index , r_number ):\n",
    "#Ops = SparsePauliOp.from_list([('I'*(Nkq + Niq)+'XIII'+'I'*Q , 1) , ('I'*(Nkq + Niq)+'IXII'+'I'*Q , 1) , ('I'*(Nkq + Niq)+'ZIII'+'I'*Q , 1) , ('I'*(Nkq + Niq)+'IZII'+'I'*Q , 1)])\n",
    "#print(f'Circuit Prepared! The parameters are:  Vx = {Vx} , hs = {Longit_h} , Omega = {Omega} , C0 = {C0} , Q = {Q} , Gamma = {Gam} , Delta_t = {Delta_t} , GDt = {Gam*Delta_t}') "
   ]
  },
  {
   "cell_type": "code",
   "execution_count": null,
   "metadata": {},
   "outputs": [],
   "source": []
  },
  {
   "cell_type": "code",
   "execution_count": 162,
   "metadata": {},
   "outputs": [
    {
     "name": "stdout",
     "output_type": "stream",
     "text": [
      "The gate depth is 308 , total number of qubits required is 10, the number of Toffoli gates is 36, and number of CNOTs is 158\n"
     ]
    }
   ],
   "source": [
    "# Transpiling the circuit and getting a gate count:\n",
    "backend_sim = Aer.get_backend('qasm_simulator')\n",
    "transpiled_circuit = transpile(FullCirc, backend_sim)\n",
    "\n",
    "gate_count = transpiled_circuit.count_ops()\n",
    "gate_depth = transpiled_circuit.depth()\n",
    "Toffoli_count = gate_count.get('ccx' , 0)\n",
    "CNOT_count = gate_count.get('cx' , 0)\n",
    "#print(\"\\nGate Count:\", gate_count)\n",
    "print(f'The gate depth is {gate_depth} , total number of qubits required is {Ntotal}, the number of Toffoli gates is {Toffoli_count}, and number of CNOTs is {CNOT_count}')\n",
    "\n",
    "#print(FullCirc.draw())"
   ]
  },
  {
   "cell_type": "code",
   "execution_count": 163,
   "metadata": {},
   "outputs": [
    {
     "name": "stdout",
     "output_type": "stream",
     "text": [
      "The job id is 3978659f-249a-4f61-bd27-78e21a3ca017\n"
     ]
    }
   ],
   "source": [
    "IBMProvider.save_account(token='1a6f8188ff1654f78d9c4418c7382addf037bf1aca1ec8a40fe866c40123a30913609310721808e16cf25f3f5f92de14f163d30a8162b5a0bba7bda1324ca1cc', overwrite=True )\n",
    "provider = IBMProvider(instance=\"usc/hen-research-g/hen-lab\")\n",
    "\n",
    "backend = provider.get_backend('ibm_strasbourg')\n",
    "Estimator = BackendEstimator(backend)\n",
    "job = Estimator.run( [FullCirc]*len(Ops) , [Ops[i] for i in range(len(Ops))]  , shots = 5000 )\n",
    "id=job.job_id()\n",
    "print(f'The job id is {id}')"
   ]
  },
  {
   "cell_type": "code",
   "execution_count": 164,
   "metadata": {},
   "outputs": [],
   "source": [
    "results = job.result()\n",
    "#counts = results.get_counts()\n"
   ]
  },
  {
   "cell_type": "code",
   "execution_count": 165,
   "metadata": {},
   "outputs": [
    {
     "name": "stdout",
     "output_type": "stream",
     "text": [
      "The values are [ 0.0176  0.138   0.942  -0.1512] and the metadata is [{'variance': 0.99969024, 'shots': 5000}, {'variance': 0.980956, 'shots': 5000}, {'variance': 0.11263600000000007, 'shots': 5000}, {'variance': 0.97713856, 'shots': 5000}]\n"
     ]
    }
   ],
   "source": [
    "values = results.values\n",
    "metadata = results.metadata\n",
    "print(f'The values are {values} and the metadata is {metadata}')"
   ]
  },
  {
   "cell_type": "code",
   "execution_count": null,
   "metadata": {},
   "outputs": [],
   "source": []
  }
 ],
 "metadata": {
  "kernelspec": {
   "display_name": "qiskit0.42",
   "language": "python",
   "name": "qiskit_0.42"
  },
  "language_info": {
   "codemirror_mode": {
    "name": "ipython",
    "version": 3
   },
   "file_extension": ".py",
   "mimetype": "text/x-python",
   "name": "python",
   "nbconvert_exporter": "python",
   "pygments_lexer": "ipython3",
   "version": "3.12.4"
  }
 },
 "nbformat": 4,
 "nbformat_minor": 4
}
