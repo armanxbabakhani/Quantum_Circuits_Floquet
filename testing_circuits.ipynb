{
 "cells": [
  {
   "cell_type": "code",
   "execution_count": 2,
   "metadata": {},
   "outputs": [
    {
     "name": "stderr",
     "output_type": "stream",
     "text": [
      "/var/folders/y7/l21gv11s0fl71s2rjkzl_w1r0000gn/T/ipykernel_48554/21233476.py:8: DeprecationWarning: The qiskit.extensions module is deprecated since Qiskit 0.46.0. It will be removed in the Qiskit 1.0 release.\n",
      "  from qiskit.extensions import Initialize , UnitaryGate\n",
      "/var/folders/y7/l21gv11s0fl71s2rjkzl_w1r0000gn/T/ipykernel_48554/21233476.py:9: DeprecationWarning: Importing from 'qiskit.providers.aer' is deprecated. Import from 'qiskit_aer' instead, which should work identically.\n",
      "  from qiskit.providers.aer import AerSimulator\n"
     ]
    }
   ],
   "source": [
    "import qiskit as qk\n",
    "import numpy as np\n",
    "import scipy.linalg as lin\n",
    "import math\n",
    "from qiskit.quantum_info import Statevector , Operator , partial_trace , DensityMatrix\n",
    "from qiskit.circuit.library.standard_gates import HGate , XGate\n",
    "from qiskit.circuit.library import GlobalPhaseGate\n",
    "from qiskit.extensions import Initialize , UnitaryGate\n",
    "from qiskit.providers.aer import AerSimulator"
   ]
  },
  {
   "cell_type": "code",
   "execution_count": 146,
   "metadata": {},
   "outputs": [],
   "source": [
    "# Build the quantum circuit\n",
    "Q = 2\n",
    "n = 2\n",
    "i_qbits = qk.QuantumRegister(Q , 'i')\n",
    "q_qbits = qk.QuantumRegister(Q , 'q')\n",
    "k_qbits = qk.QuantumRegister(Q , 'k')\n",
    "qc = qk.QuantumCircuit(k_qbits , i_qbits , q_qbits)\n",
    "\n",
    "qc.h(q_qbits[0])\n",
    "qc.ch(q_qbits[0] , q_qbits[1])\n",
    "\n",
    "qc.ch(q_qbits[0] , k_qbits[0])\n",
    "qc.ch(q_qbits[1] , k_qbits[1])\n",
    "\n",
    "Omega = np.pi\n",
    "Delta_t = 0.5\n",
    "GDt = np.log(2)"
   ]
  },
  {
   "cell_type": "code",
   "execution_count": 9,
   "metadata": {},
   "outputs": [
    {
     "name": "stdout",
     "output_type": "stream",
     "text": [
      "     ┌───┐               \n",
      "q_0: ┤ H ├──■────■───────\n",
      "     └───┘┌─┴─┐  │       \n",
      "q_1: ─────┤ H ├──┼────■──\n",
      "          └───┘┌─┴─┐  │  \n",
      "k_0: ──────────┤ H ├──┼──\n",
      "               └───┘┌─┴─┐\n",
      "k_1: ───────────────┤ H ├\n",
      "                    └───┘\n"
     ]
    }
   ],
   "source": [
    "print(qc.draw())"
   ]
  },
  {
   "cell_type": "code",
   "execution_count": 147,
   "metadata": {},
   "outputs": [],
   "source": [
    "Omega = np.pi/3.0\n",
    "Delta_t = 0.5\n",
    "GDt = np.log(2)\n",
    "\n",
    "def Uc_Phi_Omega(Circuit , current_time , k_qbits_idx , q_qbits_idx , dagger= False):\n",
    "    # Apply i\\omega \\sum_l=j^q (-1)^k_l\n",
    "    # Omega is a global variable\n",
    "    k_qbits = Circuit.qregs[k_qbits_idx]\n",
    "    q_qbits = Circuit.qregs[q_qbits_idx]\n",
    "    \n",
    "    delta = -2.0*Omega*(Delta_t) # Dividing the angle by 2 for rz\n",
    "    phase = 2.0*Omega*current_time\n",
    "\n",
    "    if dagger:\n",
    "        for l in range(len(k_qbits)-1 , - 1 , -1):\n",
    "            if l > 0:\n",
    "                for lk in range(l , 0 , -1):\n",
    "                    Circuit.crz( delta/((lk+2)*(lk+1)) , q_qbits[l] , k_qbits[l-lk])\n",
    "            Circuit.crz( -(l+1)*delta/(l+2) , q_qbits[l]  , k_qbits[l])\n",
    "            #Circuit.rz(-1.0*phase , k_qbits[l])\n",
    "    else:\n",
    "        for l in range(len(k_qbits)):\n",
    "            #Circuit.rz(phase , k_qbits[l])\n",
    "            Circuit.crz((l+1)*delta/(l+2) , q_qbits[l] , k_qbits[l])\n",
    "            if l > 0:\n",
    "                for lk in np.arange(1 , l+1):\n",
    "                    Circuit.crz(-delta/((lk+2)*(lk+1)) , q_qbits[l] , k_qbits[l - lk])\n",
    "\n",
    "def Q_angle(Qq , i):\n",
    "    angle = 0.0\n",
    "    for q in np.arange(1 , Qq - i+1):\n",
    "        angle += GDt**(q) / math.factorial(q + i)\n",
    "    angle *= math.factorial(i)\n",
    "    angle = np.sqrt(angle)\n",
    "\n",
    "    return np.arctan(angle)\n",
    "\n",
    "def UQ_circuit(Qq , n , dagger=False):\n",
    "    L = int(np.log2(n))\n",
    "    uq = qk.QuantumCircuit(Qq*L)\n",
    "    if dagger:\n",
    "        for q in range(Qq-1 , 0 , -1):\n",
    "            uq.cry(-2.0*Q_angle(Qq , q) , (q-1)*L , q*L)\n",
    "        uq.ry(-2.0*Q_angle(Qq, 0) , 0)  \n",
    "    else:\n",
    "        uq.ry(2.0*Q_angle(Qq, 0) , 0)\n",
    "        for q in np.arange(1,Qq):\n",
    "            uq.cry(2.0*Q_angle(Qq , q) , (q-1)*L , q*L) \n",
    "    return uq\n",
    "\n",
    "def create_unitary(v):\n",
    "    dim = v.size\n",
    "    # Return identity if v is a multiple of e1\n",
    "    if v[0][0] and not np.any(v[0][1:]):\n",
    "        return np.identity( dim )\n",
    "    e1 = np.zeros( dim )\n",
    "    e1[0] = 1\n",
    "    w = v/np.linalg.norm(v) - e1\n",
    "    return np.identity(dim) - 2*((np.dot(w.T, w))/(np.dot(w, w.T)))\n",
    "\n",
    "def UnitMap(vec , dagger=False):\n",
    "    N = vec[0].size + 1\n",
    "    U = np.zeros((N,N))\n",
    "    U[0][0] = 1.0\n",
    "    unit = create_unitary(vec)\n",
    "    U[1: , 1:] = unit\n",
    "    if dagger:\n",
    "        U = U.conj().T\n",
    "    return UnitaryGate(U)\n",
    "\n",
    "def B_prepare(Circuit , kq_qbits_idx , iq_qbits_idx , q_qbits_idx ,  dagger=False):\n",
    "        n = 2\n",
    "        mapping_vec = np.zeros((1 , n-1))\n",
    "        for i in np.arange(1,n):\n",
    "            mapping_vec[0][i-1] = np.sqrt( 3.0 )\n",
    "        mapping_vec[0] = mapping_vec[0]/np.sqrt( np.dot(mapping_vec[0],mapping_vec[0]) )\n",
    "            \n",
    "        L = int( np.log2(n) )\n",
    "        iq_qbits = Circuit.qregs[iq_qbits_idx]\n",
    "        kq_qbits = Circuit.qregs[kq_qbits_idx]\n",
    "        q_qbits = Circuit.qregs[q_qbits_idx]\n",
    "\n",
    "        Umapdag = UnitMap(mapping_vec , True)\n",
    "        Umap = UnitMap(mapping_vec , False)\n",
    "        \n",
    "        if dagger:\n",
    "            for i in range(Q-1 , -1 , -1):\n",
    "                Circuit.append(Umapdag , iq_qbits[list(np.arange(i*L , (i+1)*L))])\n",
    "            for i in range(Q-1 , -1 , -1):\n",
    "                Circuit.ch(iq_qbits[i*L] , kq_qbits[i])\n",
    "            for i in range(Q-1 , -1 , -1):\n",
    "                Circuit.cx(iq_qbits[i*L] , q_qbits[i])\n",
    "            Circuit.append(UQ_circuit(Q , n , dagger) , iq_qbits)\n",
    "\n",
    "        else:\n",
    "            Circuit.append(UQ_circuit(Q , n , dagger) , iq_qbits)\n",
    "            for i in range(Q):\n",
    "                Circuit.ch(iq_qbits[i*L] , kq_qbits[i])\n",
    "            for i in range(Q):\n",
    "                Circuit.cx(iq_qbits[i*L] , q_qbits[i])\n",
    "            for i in range(Q):\n",
    "                Circuit.append(Umap , iq_qbits[list(np.arange(i*L , (i+1)*L))])\n",
    "\n",
    "def Uc_P( Circuit , ctr_qbits_idx , targ_qbits_idx , i_sub_idx , dagger):\n",
    "# Assuming i_sub_idx refers to a specific block of register of size log2(n) qubits\n",
    "    if i_sub_idx > 0:\n",
    "        ctr_qbits = Circuit.qregs[ctr_qbits_idx]\n",
    "        targ_qbits = Circuit.qregs[targ_qbits_idx]\n",
    "        L = int( np.log2(n) )\n",
    "        N_qbits = n + Q * L # Total qubits = z qubits + i_q qubits + k_q qubits\n",
    "        \n",
    "        ctr_qbits_subset = ctr_qbits[(i_sub_idx-1)*L:i_sub_idx*L]\n",
    "        # Making the controlled XX gate for the specific number of controlled qubits\n",
    "        cxxcirc = qk.QuantumCircuit(2 , name='cXX')\n",
    "        cxxcirc.x( range(2) )\n",
    "        cxxGate = cxxcirc.to_gate()\n",
    "        cxxGate = cxxGate.control(L)\n",
    "        \n",
    "        if dagger:\n",
    "            for i in np.arange(n-1 , 0 , -1):\n",
    "                ibin = bin(i)[2:]\n",
    "                zer_ctrs = [x for x in range(L) if(int(ibin[x]) == 0)]\n",
    "                for j in range(len(zer_ctrs)):\n",
    "                    Circuit.x( ctr_qbits_subset[zer_ctrs[j]] )\n",
    "                Circuit.append( cxxGate , ctr_qbits_subset[:] + targ_qbits[i-1:i+1] )\n",
    "                for j in np.arange(len(zer_ctrs)-1 , -1 , -1):\n",
    "                    Circuit.x( ctr_qbits_subset[zer_ctrs[j]] )\n",
    "        else:\n",
    "            for i in np.arange(1,n):\n",
    "                ibin = bin(i)[2:]\n",
    "                #ibin = (Lctrs-len(ibin))*'0' +ibin \n",
    "                zer_ctrs = [x for x in range(L) if(int(ibin[x]) == 0)]\n",
    "                for j in range(len(zer_ctrs)):\n",
    "                    Circuit.x( ctr_qbits_subset[zer_ctrs[j]] )\n",
    "                # This part needs to be fixed.. We need to \n",
    "                Circuit.append( cxxGate , ctr_qbits_subset[:] + targ_qbits[i-1:i+1] )\n",
    "                for j in range(len(zer_ctrs)):\n",
    "                    Circuit.x( ctr_qbits_subset[zer_ctrs[j]] )\n",
    "                    \n",
    "# UC_Phi(iq_qbits , z_qbits , q) generates the E_z_iq and E_z_ij related phases on |z>\n",
    "def Uc_Phi(Circuit  , iq_qbits_idx , z_qbits_idx , q_qbits_idx , dagger=False):\n",
    "    iq_qbits = Circuit.qregs[iq_qbits_idx]\n",
    "    q_qbits = Circuit.qregs[q_qbits_idx]\n",
    "    z_qbits = Circuit.qregs[z_qbits_idx]\n",
    "    liq = iq_qbits.size\n",
    "    if dagger:\n",
    "        # Circuit.append( Diagonal_U0( Longit_h , Vx , Delta_t ) , z_qbits )\n",
    "        U0_q_ctrl( Circuit , -Delta_t*Q , q_qbits , z_qbits , False)\n",
    "        for j in range(Q , 0 , -1):\n",
    "            Uc_P( Circuit , iq_qbits_idx , z_qbits_idx , j , dagger )\n",
    "            U0_q_ctrl( Circuit , Delta_t , q_qbits , z_qbits , False )\n",
    "\n",
    "            Circuit.cp( np.pi , q_qbits[j-1] , z_qbits[0] )\n",
    "            Circuit.crz( -np.pi , q_qbits[j-1] , z_qbits[0] )\n",
    "    else:\n",
    "        for j in np.arange(1,Q+1):\n",
    "            Circuit.crz( np.pi , q_qbits[j-1] , z_qbits[0] )\n",
    "            Circuit.cp( -np.pi , q_qbits[j-1] , z_qbits[0] )\n",
    "\n",
    "            #U0_q_ctrl( Circuit , Delta_t , q_qbits , z_qbits , True )\n",
    "            Uc_P( Circuit , iq_qbits_idx , z_qbits_idx , j , dagger )\n",
    "        #U0_q_ctrl( Circuit , -Delta_t*Q , q_qbits , z_qbits , True )\n"
   ]
  },
  {
   "cell_type": "code",
   "execution_count": 95,
   "metadata": {},
   "outputs": [
    {
     "name": "stdout",
     "output_type": "stream",
     "text": [
      "                                                  \n",
      "q_0: ──────────────■──────────────────────────────\n",
      "                   │                              \n",
      "q_1: ──────────────┼────────────■───────────■─────\n",
      "     ┌───────┐┌────┴─────┐      │      ┌────┴────┐\n",
      "k_0: ┤ Rz(0) ├┤ Rz(-π/2) ├──────┼──────┤ Rz(π/6) ├\n",
      "     ├───────┤└──────────┘┌─────┴─────┐└─────────┘\n",
      "k_1: ┤ Rz(0) ├────────────┤ Rz(-2π/3) ├───────────\n",
      "     └───────┘            └───────────┘           \n"
     ]
    }
   ],
   "source": [
    "qc = qk.QuantumCircuit(q_qbits , k_qbits)\n",
    "Uc_Phi_Omega(qc , 0 , 1 , 0 , False)\n",
    "print(qc.draw())"
   ]
  },
  {
   "cell_type": "code",
   "execution_count": 59,
   "metadata": {},
   "outputs": [],
   "source": [
    "#state = Statevector.from_label('0'*2*Q)\n",
    "state = np.array([1 , 0 , 0 , 0 , 1 , 1 , 0 , 0 , 0 , 0 , 0 , 0, 1 , 1 , 1 , 1])\n",
    "state = np.array([1 , 1, 0, 0, 0 , 1, 1 , 0, 0 , 0, 1, 0 , 0 , 0 , 1 , 1])\n",
    "state = np.array([1 , 1, 0, 1, 0 , 1, 0 , 1, 0 , 0, 0, 1 , 0 , 0 , 0 , 1])\n",
    "\n",
    "#state = np.array([1 , 1 , 0 , 0 , 0 , 0 , 0 , 0 , 0 , 0 , 0 , 0, 0 , 0 , 0 , 0])\n",
    "state = state/np.linalg.norm(state)\n",
    "state = Statevector(state)\n",
    "final = state.evolve(qc)"
   ]
  },
  {
   "cell_type": "code",
   "execution_count": 57,
   "metadata": {},
   "outputs": [
    {
     "name": "stdout",
     "output_type": "stream",
     "text": [
      "The final state is Statevector([3.77964473e-01+0.j        , 2.67261242e-01+0.26726124j,\n",
      "             0.00000000e+00+0.j        , 0.00000000e+00+0.j        ,\n",
      "             0.00000000e+00+0.j        , 2.67261242e-01-0.26726124j,\n",
      "             9.78244040e-02+0.36508565j, 0.00000000e+00+0.j        ,\n",
      "             0.00000000e+00+0.j        , 0.00000000e+00+0.j        ,\n",
      "             9.78244040e-02-0.36508565j, 0.00000000e+00+0.j        ,\n",
      "             0.00000000e+00+0.j        , 0.00000000e+00+0.j        ,\n",
      "             2.67261242e-01-0.26726124j, 6.72377924e-17-0.37796447j],\n",
      "            dims=(2, 2, 2, 2))\n",
      "The norm of the final state is 1.0\n"
     ]
    }
   ],
   "source": [
    "print(f'The final state is {final}')\n",
    "print(f'The norm of the final state is {np.linalg.norm(final)}')"
   ]
  },
  {
   "cell_type": "markdown",
   "metadata": {},
   "source": [
    "$|00\\rangle |00\\rangle +  (e^{i\\omega t/2}|00\\rangle+e^{-i\\omega t/2}|01\\rangle)|01\\rangle +  (e^{i\\omega t}|00\\rangle + e^{i\\omega t/3}|01 \\rangle + e^{-i\\omega t/3}|10\\rangle +e^{-i\\omega t}|11\\rangle)|11\\rangle$"
   ]
  },
  {
   "cell_type": "code",
   "execution_count": 140,
   "metadata": {},
   "outputs": [
    {
     "name": "stdout",
     "output_type": "stream",
     "text": [
      "the theoretical state is Statevector([0.37796447+0.j        , 0.        +0.j        ,\n",
      "             0.        +0.j        , 0.        +0.j        ,\n",
      "             0.        +0.j        , 0.        +0.j        ,\n",
      "             0.        +0.j        , 0.        +0.j        ,\n",
      "             0.        +0.j        , 0.        +0.j        ,\n",
      "             0.        +0.j        , 0.        +0.j        ,\n",
      "             0.        +0.j        , 0.        +0.j        ,\n",
      "             0.        +0.j        , 0.        +0.j        ,\n",
      "             0.        +0.j        , 0.        +0.j        ,\n",
      "             0.        +0.j        , 0.        +0.j        ,\n",
      "             0.36508565+0.0978244j , 0.36508565-0.0978244j ,\n",
      "             0.        +0.j        , 0.        +0.j        ,\n",
      "             0.        +0.j        , 0.        +0.j        ,\n",
      "             0.        +0.j        , 0.        +0.j        ,\n",
      "             0.        +0.j        , 0.        +0.j        ,\n",
      "             0.        +0.j        , 0.        +0.j        ,\n",
      "             0.        +0.j        , 0.        +0.j        ,\n",
      "             0.        +0.j        , 0.        +0.j        ,\n",
      "             0.        +0.j        , 0.        +0.j        ,\n",
      "             0.        +0.j        , 0.        +0.j        ,\n",
      "             0.        +0.j        , 0.        +0.j        ,\n",
      "             0.        +0.j        , 0.        +0.j        ,\n",
      "             0.        +0.j        , 0.        +0.j        ,\n",
      "             0.        +0.j        , 0.        +0.j        ,\n",
      "             0.        +0.j        , 0.        +0.j        ,\n",
      "             0.        +0.j        , 0.        +0.j        ,\n",
      "             0.        +0.j        , 0.        +0.j        ,\n",
      "             0.        +0.j        , 0.        +0.j        ,\n",
      "             0.        +0.j        , 0.        +0.j        ,\n",
      "             0.        +0.j        , 0.        +0.j        ,\n",
      "             0.32732684+0.18898224j, 0.37222234+0.06563284j,\n",
      "             0.37222234-0.06563284j, 0.32732684-0.18898224j],\n",
      "            dims=(2, 2, 2, 2, 2, 2))\n"
     ]
    }
   ],
   "source": [
    "state_theory = np.zeros((1,2**(3*Q)), dtype='complex')[0]\n",
    "state_theory[0] = 1.0\n",
    "state_theory[20] = np.exp(1.0j*Omega*Delta_t/2.0)\n",
    "state_theory[21] = np.exp(-1.0j*Omega*Delta_t/2.0)\n",
    "state_theory[63] = np.exp(-1.0j*Omega*Delta_t)\n",
    "state_theory[62] = np.exp(-1.0j*Omega*Delta_t/3.0)\n",
    "state_theory[61] = np.exp(1.0j*Omega*Delta_t/3.0)\n",
    "state_theory[60] = np.exp(1.0j*Omega*Delta_t)\n",
    "state_theory = state_theory/np.linalg.norm(state_theory)\n",
    "state_theory = Statevector(state_theory)\n",
    "\n",
    "print(f'the theoretical state is {state_theory}')"
   ]
  },
  {
   "cell_type": "code",
   "execution_count": 60,
   "metadata": {},
   "outputs": [
    {
     "name": "stdout",
     "output_type": "stream",
     "text": [
      "Tthe real state is Statevector([3.77964473e-01+0.j        , 2.67261242e-01+0.26726124j,\n",
      "             0.00000000e+00+0.j        , 6.72377924e-17+0.37796447j,\n",
      "             0.00000000e+00+0.j        , 2.67261242e-01-0.26726124j,\n",
      "             0.00000000e+00+0.j        , 3.27326835e-01+0.18898224j,\n",
      "             0.00000000e+00+0.j        , 0.00000000e+00+0.j        ,\n",
      "             0.00000000e+00+0.j        , 3.27326835e-01-0.18898224j,\n",
      "             0.00000000e+00+0.j        , 0.00000000e+00+0.j        ,\n",
      "             0.00000000e+00+0.j        , 6.72377924e-17-0.37796447j],\n",
      "            dims=(2, 2, 2, 2))\n"
     ]
    }
   ],
   "source": [
    "#final == state_theory\n",
    "print(f'Tthe real state is {final}')"
   ]
  },
  {
   "cell_type": "code",
   "execution_count": 26,
   "metadata": {},
   "outputs": [
    {
     "name": "stdout",
     "output_type": "stream",
     "text": [
      "[0. 1. 0. 0.]\n"
     ]
    }
   ],
   "source": [
    "X2 = np.kron(np.eye(2) , np.array([[0 , 1] , [1 , 0]]))\n",
    "\n",
    "print(np.dot(X2 , np.array([1, 0, 0 , 0])))"
   ]
  },
  {
   "cell_type": "code",
   "execution_count": 141,
   "metadata": {},
   "outputs": [
    {
     "name": "stdout",
     "output_type": "stream",
     "text": [
      "Statevector([0.37796447+0.j        , 0.        +0.j        ,\n",
      "             0.        +0.j        , 0.        +0.j        ,\n",
      "             0.        +0.j        , 0.        +0.j        ,\n",
      "             0.        +0.j        , 0.        +0.j        ,\n",
      "             0.        +0.j        , 0.        +0.j        ,\n",
      "             0.        +0.j        , 0.        +0.j        ,\n",
      "             0.        +0.j        , 0.        +0.j        ,\n",
      "             0.        +0.j        , 0.        +0.j        ,\n",
      "             0.        +0.j        , 0.        +0.j        ,\n",
      "             0.        +0.j        , 0.        +0.j        ,\n",
      "             0.36508565+0.0978244j , 0.36508565-0.0978244j ,\n",
      "             0.        +0.j        , 0.        +0.j        ,\n",
      "             0.        +0.j        , 0.        +0.j        ,\n",
      "             0.        +0.j        , 0.        +0.j        ,\n",
      "             0.        +0.j        , 0.        +0.j        ,\n",
      "             0.        +0.j        , 0.        +0.j        ,\n",
      "             0.        +0.j        , 0.        +0.j        ,\n",
      "             0.        +0.j        , 0.        +0.j        ,\n",
      "             0.        +0.j        , 0.        +0.j        ,\n",
      "             0.        +0.j        , 0.        +0.j        ,\n",
      "             0.        +0.j        , 0.        +0.j        ,\n",
      "             0.        +0.j        , 0.        +0.j        ,\n",
      "             0.        +0.j        , 0.        +0.j        ,\n",
      "             0.        +0.j        , 0.        +0.j        ,\n",
      "             0.        +0.j        , 0.        +0.j        ,\n",
      "             0.        +0.j        , 0.        +0.j        ,\n",
      "             0.        +0.j        , 0.        +0.j        ,\n",
      "             0.        +0.j        , 0.        +0.j        ,\n",
      "             0.        +0.j        , 0.        +0.j        ,\n",
      "             0.        +0.j        , 0.        +0.j        ,\n",
      "             0.32732684+0.18898224j, 0.37222234+0.06563284j,\n",
      "             0.37222234-0.06563284j, 0.32732684-0.18898224j],\n",
      "            dims=(2, 2, 2, 2, 2, 2))\n",
      "the theoretical state is Statevector([0.37796447+0.j        , 0.        +0.j        ,\n",
      "             0.        +0.j        , 0.        +0.j        ,\n",
      "             0.        +0.j        , 0.        +0.j        ,\n",
      "             0.        +0.j        , 0.        +0.j        ,\n",
      "             0.        +0.j        , 0.        +0.j        ,\n",
      "             0.        +0.j        , 0.        +0.j        ,\n",
      "             0.        +0.j        , 0.        +0.j        ,\n",
      "             0.        +0.j        , 0.        +0.j        ,\n",
      "             0.        +0.j        , 0.        +0.j        ,\n",
      "             0.        +0.j        , 0.        +0.j        ,\n",
      "             0.36508565+0.0978244j , 0.36508565-0.0978244j ,\n",
      "             0.        +0.j        , 0.        +0.j        ,\n",
      "             0.        +0.j        , 0.        +0.j        ,\n",
      "             0.        +0.j        , 0.        +0.j        ,\n",
      "             0.        +0.j        , 0.        +0.j        ,\n",
      "             0.        +0.j        , 0.        +0.j        ,\n",
      "             0.        +0.j        , 0.        +0.j        ,\n",
      "             0.        +0.j        , 0.        +0.j        ,\n",
      "             0.        +0.j        , 0.        +0.j        ,\n",
      "             0.        +0.j        , 0.        +0.j        ,\n",
      "             0.        +0.j        , 0.        +0.j        ,\n",
      "             0.        +0.j        , 0.        +0.j        ,\n",
      "             0.        +0.j        , 0.        +0.j        ,\n",
      "             0.        +0.j        , 0.        +0.j        ,\n",
      "             0.        +0.j        , 0.        +0.j        ,\n",
      "             0.        +0.j        , 0.        +0.j        ,\n",
      "             0.        +0.j        , 0.        +0.j        ,\n",
      "             0.        +0.j        , 0.        +0.j        ,\n",
      "             0.        +0.j        , 0.        +0.j        ,\n",
      "             0.        +0.j        , 0.        +0.j        ,\n",
      "             0.32732684+0.18898224j, 0.37222234+0.06563284j,\n",
      "             0.37222234-0.06563284j, 0.32732684-0.18898224j],\n",
      "            dims=(2, 2, 2, 2, 2, 2))\n"
     ]
    }
   ],
   "source": [
    "i_qbits = qk.QuantumRegister(Q , 'i')\n",
    "q_qbits = qk.QuantumRegister(Q , 'q')\n",
    "k_qbits = qk.QuantumRegister(Q , 'k')\n",
    "Circ = qk.QuantumCircuit(k_qbits , i_qbits , q_qbits)\n",
    "#B_prepare( Circ , 0 , 1 , 2 ,  False )\n",
    "Uc_Phi_Omega(Circ , 0.0 , 0 , 2 , False)\n",
    "\n",
    "state = np.zeros((1,2**(3*Q)))[0]\n",
    "state[0] = 1.0\n",
    "state[20] = 1.0\n",
    "state[21] = 1.0\n",
    "state[63] = 1.0\n",
    "state[62] = 1.0\n",
    "state[61] = 1.0\n",
    "state[60] = 1.0\n",
    "state = state/np.linalg.norm(state)\n",
    "state = Statevector(state)\n",
    "#state = Statevector.from_label('0'*3*Q)\n",
    "final = state.evolve(Circ)\n",
    "#for i in range(len(final)):\n",
    "#    if abs(final[i])>1E-6:\n",
    "#        print('The index is ', i)\n",
    "print(final/np.linalg.norm(final))\n",
    "#print(f'The norm of the final state is {np.linalg.norm(final)}')\n",
    "print(f'the theoretical state is {state_theory}')\n",
    "\n"
   ]
  },
  {
   "cell_type": "code",
   "execution_count": 133,
   "metadata": {},
   "outputs": [
    {
     "name": "stdout",
     "output_type": "stream",
     "text": [
      "     ┌──────────┐             ┌─────────┐\n",
      "k_0: ┤ Rz(-π/2) ├─────────────┤ Rz(π/6) ├\n",
      "     └────┬─────┘┌───────────┐└────┬────┘\n",
      "k_1: ─────┼──────┤ Rz(-2π/3) ├─────┼─────\n",
      "          │      └─────┬─────┘     │     \n",
      "i_0: ─────┼────────────┼───────────┼─────\n",
      "          │            │           │     \n",
      "i_1: ─────┼────────────┼───────────┼─────\n",
      "          │            │           │     \n",
      "q_0: ─────■────────────┼───────────┼─────\n",
      "                       │           │     \n",
      "q_1: ──────────────────■───────────■─────\n",
      "                                         \n"
     ]
    }
   ],
   "source": [
    "print(Circ.draw())"
   ]
  },
  {
   "cell_type": "code",
   "execution_count": 88,
   "metadata": {},
   "outputs": [
    {
     "data": {
      "text/plain": [
       "0.3779644730092272"
      ]
     },
     "execution_count": 88,
     "metadata": {},
     "output_type": "execute_result"
    }
   ],
   "source": []
  },
  {
   "cell_type": "code",
   "execution_count": 150,
   "metadata": {},
   "outputs": [
    {
     "name": "stdout",
     "output_type": "stream",
     "text": [
      "the value is (-1-1.2246467991473532e-16j) and the index is 51\n",
      "Statevector([ 0.+0.0000000e+00j,  0.+0.0000000e+00j,  0.+0.0000000e+00j,\n",
      "              0.+0.0000000e+00j,  0.+0.0000000e+00j,  0.+0.0000000e+00j,\n",
      "              0.+0.0000000e+00j,  0.+0.0000000e+00j,  0.+0.0000000e+00j,\n",
      "              0.+0.0000000e+00j,  0.+0.0000000e+00j,  0.+0.0000000e+00j,\n",
      "              0.+0.0000000e+00j,  0.+0.0000000e+00j,  0.+0.0000000e+00j,\n",
      "              0.+0.0000000e+00j,  0.+0.0000000e+00j,  0.+0.0000000e+00j,\n",
      "              0.+0.0000000e+00j,  0.+0.0000000e+00j,  0.+0.0000000e+00j,\n",
      "              0.+0.0000000e+00j,  0.+0.0000000e+00j,  0.+0.0000000e+00j,\n",
      "              0.+0.0000000e+00j,  0.+0.0000000e+00j,  0.+0.0000000e+00j,\n",
      "              0.+0.0000000e+00j,  0.+0.0000000e+00j,  0.+0.0000000e+00j,\n",
      "              0.+0.0000000e+00j,  0.+0.0000000e+00j,  0.+0.0000000e+00j,\n",
      "              0.+0.0000000e+00j,  0.+0.0000000e+00j,  0.+0.0000000e+00j,\n",
      "              0.+0.0000000e+00j,  0.+0.0000000e+00j,  0.+0.0000000e+00j,\n",
      "              0.+0.0000000e+00j,  0.+0.0000000e+00j,  0.+0.0000000e+00j,\n",
      "              0.+0.0000000e+00j,  0.+0.0000000e+00j,  0.+0.0000000e+00j,\n",
      "              0.+0.0000000e+00j,  0.+0.0000000e+00j,  0.+0.0000000e+00j,\n",
      "              0.+0.0000000e+00j,  0.+0.0000000e+00j,  0.+0.0000000e+00j,\n",
      "             -1.-1.2246468e-16j,  0.+0.0000000e+00j,  0.+0.0000000e+00j,\n",
      "              0.+0.0000000e+00j,  0.+0.0000000e+00j,  0.+0.0000000e+00j,\n",
      "              0.+0.0000000e+00j,  0.+0.0000000e+00j,  0.+0.0000000e+00j,\n",
      "              0.+0.0000000e+00j,  0.+0.0000000e+00j,  0.+0.0000000e+00j,\n",
      "              0.+0.0000000e+00j],\n",
      "            dims=(2, 2, 2, 2, 2, 2))\n"
     ]
    }
   ],
   "source": [
    "i_qbits = qk.QuantumRegister(2 , 'i')\n",
    "z_qbits = qk.QuantumRegister(2 , 'z')\n",
    "q_qbits = qk.QuantumRegister(2 , 'q')\n",
    "Circ = qk.QuantumCircuit(i_qbits , z_qbits , q_qbits)\n",
    "Uc_Phi(Circ  , 0 , 1 , 2 , False)\n",
    "\n",
    "\n",
    "state = np.array(np.zeros((1 , 2**(6)))[0])\n",
    "state[51] = 1.0\n",
    "state = Statevector(state)\n",
    "\n",
    "final = state.evolve(Circ)\n",
    "\n",
    "for i in range(len(final)):\n",
    "    if abs(final[i]) > 1E-6:\n",
    "        print(f'the value is {final[i]} and the index is {i}')\n",
    "\n",
    "print(final)"
   ]
  },
  {
   "cell_type": "code",
   "execution_count": null,
   "metadata": {},
   "outputs": [],
   "source": []
  }
 ],
 "metadata": {
  "kernelspec": {
   "display_name": "qiskit0.42",
   "language": "python",
   "name": "qiskit_0.42"
  },
  "language_info": {
   "codemirror_mode": {
    "name": "ipython",
    "version": 3
   },
   "file_extension": ".py",
   "mimetype": "text/x-python",
   "name": "python",
   "nbconvert_exporter": "python",
   "pygments_lexer": "ipython3",
   "version": "3.12.4"
  }
 },
 "nbformat": 4,
 "nbformat_minor": 2
}
