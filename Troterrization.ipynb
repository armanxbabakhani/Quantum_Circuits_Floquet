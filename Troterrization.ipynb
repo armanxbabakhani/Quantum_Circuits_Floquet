{
 "cells": [
  {
   "cell_type": "code",
   "execution_count": 8,
   "metadata": {},
   "outputs": [],
   "source": [
    "import qiskit as qk\n",
    "from qiskit.circuit import Parameter\n",
    "import numpy as np\n",
    "from qiskit_algorithms import TimeEvolutionProblem , TrotterQRTE\n",
    "from qiskit.quantum_info import SparsePauliOp\n",
    "from qiskit.circuit.library import EfficientSU2\n"
   ]
  },
  {
   "cell_type": "code",
   "execution_count": 9,
   "metadata": {},
   "outputs": [],
   "source": [
    "\n",
    "\n",
    "# Define the system parameters\n",
    "N = 4        # Number of qubits\n",
    "h = 1.0      # Coefficient for the Z_i terms\n",
    "V = 1.0      # Coefficient for the Z_i Z_{i+1} terms\n",
    "c0 = 1.0     # Coefficient for the time-dependent X_i X_{i+1} terms\n",
    "omega = 1.0  # Frequency for the cosine term\n",
    "cs = [2.0 + (-1)**x for x in range(N-1)]\n",
    "period = 2*np.pi/omega\n",
    "total_time = 2*period"
   ]
  },
  {
   "cell_type": "code",
   "execution_count": 7,
   "metadata": {},
   "outputs": [],
   "source": [
    "\n",
    "Trotter_circ = qk.QuantumCircuit(N)\n",
    "time_param = Parameter('t')\n",
    "cos_term = Parameter('cos_term')  # This will be evaluated as c0 * cos(omega * t)\n",
    "time_step = 1.0 / omega \n",
    "\n",
    "\n",
    "\n",
    "# Number of Trotter steps\n",
    "num_trotter_steps = 10\n",
    "for _ in range(num_trotter_steps):\n",
    "    # Z terms\n",
    "    for i in range(N):\n",
    "        circuit.rz(2 * h * time_param, i)\n",
    "    \n",
    "    # ZZ terms\n",
    "    for i in range(N - 1):\n",
    "        circuit.rzz(2 * V * time_param, i, i + 1)\n",
    "    \n",
    "    # XX terms with the time-dependent cosine factor\n",
    "    for i in range(N - 1):\n",
    "        circuit.rxx(2 * cos_term * time_param, i, i + 1)\n",
    "\n",
    "\n"
   ]
  },
  {
   "cell_type": "code",
   "execution_count": null,
   "metadata": {},
   "outputs": [],
   "source": []
  }
 ],
 "metadata": {
  "kernelspec": {
   "display_name": "qiskit_1.0",
   "language": "python",
   "name": "qiskit_1.0"
  },
  "language_info": {
   "codemirror_mode": {
    "name": "ipython",
    "version": 3
   },
   "file_extension": ".py",
   "mimetype": "text/x-python",
   "name": "python",
   "nbconvert_exporter": "python",
   "pygments_lexer": "ipython3",
   "version": "3.12.4"
  }
 },
 "nbformat": 4,
 "nbformat_minor": 2
}
